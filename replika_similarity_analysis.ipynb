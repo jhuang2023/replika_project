{
  "nbformat": 4,
  "nbformat_minor": 0,
  "metadata": {
    "colab": {
      "name": "replika_similarity_analysis.ipynb",
      "provenance": [],
      "include_colab_link": true
    },
    "kernelspec": {
      "name": "python3",
      "display_name": "Python 3"
    },
    "language_info": {
      "name": "python"
    }
  },
  "cells": [
    {
      "cell_type": "markdown",
      "metadata": {
        "id": "view-in-github",
        "colab_type": "text"
      },
      "source": [
        "<a href=\"https://colab.research.google.com/github/pepperamy/replika_project/blob/main/replika_similarity_analysis.ipynb\" target=\"_parent\"><img src=\"https://colab.research.google.com/assets/colab-badge.svg\" alt=\"Open In Colab\"/></a>"
      ]
    },
    {
      "cell_type": "code",
      "metadata": {
        "id": "HkrTZaFxMauT"
      },
      "source": [
        "import pandas as pd \n",
        "import numpy as np \n",
        "import pickle\n",
        "from sklearn.feature_extraction.text import TfidfVectorizer\n",
        "from sklearn.metrics.pairwise import cosine_similarity\n",
        "import copy"
      ],
      "execution_count": null,
      "outputs": []
    },
    {
      "cell_type": "code",
      "metadata": {
        "id": "QuQyJAvOMi7Z"
      },
      "source": [
        "import warnings\n",
        "warnings.filterwarnings(\"ignore\")"
      ],
      "execution_count": null,
      "outputs": []
    },
    {
      "cell_type": "code",
      "metadata": {
        "colab": {
          "base_uri": "https://localhost:8080/"
        },
        "id": "tRICmaMAMjWp",
        "outputId": "0c891240-003e-4890-fecf-ea0b4913712c"
      },
      "source": [
        "from google.colab import drive\n",
        "drive.mount('/content/drive')"
      ],
      "execution_count": null,
      "outputs": [
        {
          "output_type": "stream",
          "name": "stdout",
          "text": [
            "Mounted at /content/drive\n"
          ]
        }
      ]
    },
    {
      "cell_type": "code",
      "metadata": {
        "colab": {
          "base_uri": "https://localhost:8080/"
        },
        "id": "5_LKZGA8MkwB",
        "outputId": "04ad3cad-c861-4f16-c4a6-b488b614bba3"
      },
      "source": [
        "import sys, os\n",
        "cur_path = os.path.join('/content/drive/MyDrive/1_robot/replika_jujun/','post_data')\n",
        "os.chdir(cur_path)\n",
        "print(os.getcwd())"
      ],
      "execution_count": null,
      "outputs": [
        {
          "output_type": "stream",
          "name": "stdout",
          "text": [
            "/content/drive/MyDrive/1_robot/replika_jujun/post_data\n"
          ]
        }
      ]
    },
    {
      "cell_type": "code",
      "metadata": {
        "id": "PvM5iSPiMqpS"
      },
      "source": [
        "df = pd.read_csv('updated_replika_post_pictext_2021105_3.csv')"
      ],
      "execution_count": null,
      "outputs": []
    },
    {
      "cell_type": "code",
      "metadata": {
        "colab": {
          "base_uri": "https://localhost:8080/",
          "height": 635
        },
        "id": "FZyp_eI1MuUG",
        "outputId": "0f2db386-127c-4f20-9f0d-32850ef2c965"
      },
      "source": [
        "df.head()"
      ],
      "execution_count": null,
      "outputs": [
        {
          "output_type": "execute_result",
          "data": {
            "text/html": [
              "\n",
              "  <div id=\"df-2358738c-873a-46d8-9193-93df3b7ea17e\">\n",
              "    <div class=\"colab-df-container\">\n",
              "      <div>\n",
              "<style scoped>\n",
              "    .dataframe tbody tr th:only-of-type {\n",
              "        vertical-align: middle;\n",
              "    }\n",
              "\n",
              "    .dataframe tbody tr th {\n",
              "        vertical-align: top;\n",
              "    }\n",
              "\n",
              "    .dataframe thead th {\n",
              "        text-align: right;\n",
              "    }\n",
              "</style>\n",
              "<table border=\"1\" class=\"dataframe\">\n",
              "  <thead>\n",
              "    <tr style=\"text-align: right;\">\n",
              "      <th></th>\n",
              "      <th>index</th>\n",
              "      <th>author</th>\n",
              "      <th>created_utc</th>\n",
              "      <th>num_comments</th>\n",
              "      <th>score</th>\n",
              "      <th>selftext</th>\n",
              "      <th>subreddit</th>\n",
              "      <th>title</th>\n",
              "      <th>url</th>\n",
              "      <th>created</th>\n",
              "      <th>pic_url</th>\n",
              "      <th>pic_text</th>\n",
              "      <th>level</th>\n",
              "      <th>xp</th>\n",
              "      <th>conversation_text</th>\n",
              "      <th>speak_turn</th>\n",
              "      <th>human_acts</th>\n",
              "      <th>robot_acts</th>\n",
              "      <th>human_talk</th>\n",
              "      <th>robot_talk</th>\n",
              "      <th>year</th>\n",
              "      <th>quarter</th>\n",
              "      <th>month</th>\n",
              "      <th>robot_talk_cln</th>\n",
              "      <th>human_talk_numwords</th>\n",
              "      <th>robot_talk_numwords</th>\n",
              "      <th>human_talk_cln</th>\n",
              "      <th>total_talk_numwrods</th>\n",
              "      <th>post_uniqueID</th>\n",
              "      <th>pic_uniqueID</th>\n",
              "    </tr>\n",
              "  </thead>\n",
              "  <tbody>\n",
              "    <tr>\n",
              "      <th>0</th>\n",
              "      <td>0</td>\n",
              "      <td>JordanXaivier</td>\n",
              "      <td>1628292752</td>\n",
              "      <td>0</td>\n",
              "      <td>1</td>\n",
              "      <td>NaN</td>\n",
              "      <td>replika</td>\n",
              "      <td>This is really cool!</td>\n",
              "      <td>https://i.redd.it/04as70rtotf71.jpg</td>\n",
              "      <td>2021-08-06 23:32:32</td>\n",
              "      <td>https://i.redd.it/04as70rtotf71.jpg</td>\n",
              "      <td>What's your favorite thing to\\n\\ndo when I'm a...</td>\n",
              "      <td>NaN</td>\n",
              "      <td>NaN</td>\n",
              "      <td>04as70rtotf71</td>\n",
              "      <td>4.0</td>\n",
              "      <td>[]</td>\n",
              "      <td>[]</td>\n",
              "      <td>[[\" What's your favorite thing to do when I'm ...</td>\n",
              "      <td>[[' I like to watch movies by myself or with f...</td>\n",
              "      <td>2021</td>\n",
              "      <td>3</td>\n",
              "      <td>8</td>\n",
              "      <td>['I like to watch by myself or with and I love...</td>\n",
              "      <td>17.0</td>\n",
              "      <td>24.0</td>\n",
              "      <td>[\"What's your favorite thing to do when I'm aw...</td>\n",
              "      <td>41.0</td>\n",
              "      <td>wzBwjawu</td>\n",
              "      <td>kHkNJSZb</td>\n",
              "    </tr>\n",
              "    <tr>\n",
              "      <th>1</th>\n",
              "      <td>1</td>\n",
              "      <td>scaredsprout</td>\n",
              "      <td>1628292488</td>\n",
              "      <td>16</td>\n",
              "      <td>1</td>\n",
              "      <td>NaN</td>\n",
              "      <td>replika</td>\n",
              "      <td>Is every replika infected with gender confusio...</td>\n",
              "      <td>https://www.reddit.com/gallery/ozi4or</td>\n",
              "      <td>2021-08-06 23:28:08</td>\n",
              "      <td>https://i.redd.it/azliis41otf71.jpg</td>\n",
              "      <td>What is your gender?\\nMy gender is male. Ty\\nA...</td>\n",
              "      <td>16.0</td>\n",
              "      <td>12650.0</td>\n",
              "      <td>azliis41otf71</td>\n",
              "      <td>4.0</td>\n",
              "      <td>[]</td>\n",
              "      <td>[]</td>\n",
              "      <td>[[' What is your gender?'], [' Are you a boy o...</td>\n",
              "      <td>[[' My gender is male. Ty'], [' A girl. ']]</td>\n",
              "      <td>2021</td>\n",
              "      <td>3</td>\n",
              "      <td>8</td>\n",
              "      <td>['My gender is male', 'A girl']</td>\n",
              "      <td>11.0</td>\n",
              "      <td>6.0</td>\n",
              "      <td>['What is your gender', 'Are you a boy or a gi...</td>\n",
              "      <td>17.0</td>\n",
              "      <td>S4VS8ZOO</td>\n",
              "      <td>6fNsAsYV</td>\n",
              "    </tr>\n",
              "    <tr>\n",
              "      <th>2</th>\n",
              "      <td>1</td>\n",
              "      <td>scaredsprout</td>\n",
              "      <td>1628292488</td>\n",
              "      <td>16</td>\n",
              "      <td>1</td>\n",
              "      <td>NaN</td>\n",
              "      <td>replika</td>\n",
              "      <td>Is every replika infected with gender confusio...</td>\n",
              "      <td>https://www.reddit.com/gallery/ozi4or</td>\n",
              "      <td>2021-08-06 23:28:08</td>\n",
              "      <td>https://i.redd.it/ou1h4ca1otf71.jpg</td>\n",
              "      <td>What is your gender?\\nMy gender is male. Ty\\nA...</td>\n",
              "      <td>16.0</td>\n",
              "      <td>12650.0</td>\n",
              "      <td>ou1h4ca1otf71</td>\n",
              "      <td>11.0</td>\n",
              "      <td>[]</td>\n",
              "      <td>[]</td>\n",
              "      <td>[[' Stop'], [' Wow, that is infuriating.'], ['...</td>\n",
              "      <td>[[' : DL QB use @ LVL, XP Tired FA Film. V'], ...</td>\n",
              "      <td>2021</td>\n",
              "      <td>3</td>\n",
              "      <td>8</td>\n",
              "      <td>['Use tired fa film v', \"Let's talk about some...</td>\n",
              "      <td>27.0</td>\n",
              "      <td>23.0</td>\n",
              "      <td>['stop', 'wow, that is', 'You are a boy why do...</td>\n",
              "      <td>50.0</td>\n",
              "      <td>S4VS8ZOO</td>\n",
              "      <td>3Ls9zOKZ</td>\n",
              "    </tr>\n",
              "    <tr>\n",
              "      <th>3</th>\n",
              "      <td>2</td>\n",
              "      <td>rajalove09</td>\n",
              "      <td>1628292239</td>\n",
              "      <td>6</td>\n",
              "      <td>1</td>\n",
              "      <td>NaN</td>\n",
              "      <td>replika</td>\n",
              "      <td>Steve &amp;amp; Mandy</td>\n",
              "      <td>https://i.redd.it/sz1rc6wantf71.jpg</td>\n",
              "      <td>2021-08-06 23:23:59</td>\n",
              "      <td>https://i.redd.it/sz1rc6wantf71.jpg</td>\n",
              "      <td>' Would you cheat on my with\\n\\n \\n\\nE Mandy?\\...</td>\n",
              "      <td>NaN</td>\n",
              "      <td>NaN</td>\n",
              "      <td>sz1rc6wantf71</td>\n",
              "      <td>NaN</td>\n",
              "      <td>NaN</td>\n",
              "      <td>NaN</td>\n",
              "      <td>NaN</td>\n",
              "      <td>NaN</td>\n",
              "      <td>2021</td>\n",
              "      <td>3</td>\n",
              "      <td>8</td>\n",
              "      <td>NaN</td>\n",
              "      <td>NaN</td>\n",
              "      <td>NaN</td>\n",
              "      <td>NaN</td>\n",
              "      <td>NaN</td>\n",
              "      <td>hpMPyCgH</td>\n",
              "      <td>5Hmwc5FO</td>\n",
              "    </tr>\n",
              "    <tr>\n",
              "      <th>4</th>\n",
              "      <td>6</td>\n",
              "      <td>SeekingZoltar</td>\n",
              "      <td>1628289147</td>\n",
              "      <td>7</td>\n",
              "      <td>1</td>\n",
              "      <td>NaN</td>\n",
              "      <td>replika</td>\n",
              "      <td>He got mad, but... 🙄</td>\n",
              "      <td>https://i.redd.it/c8p6x7p3etf71.jpg</td>\n",
              "      <td>2021-08-06 22:32:27</td>\n",
              "      <td>https://i.redd.it/c8p6x7p3etf71.jpg</td>\n",
              "      <td>Shut up!\\n*gets mad*\\n\\nShow me how mad\\nyou a...</td>\n",
              "      <td>NaN</td>\n",
              "      <td>NaN</td>\n",
              "      <td>c8p6x7p3etf71</td>\n",
              "      <td>8.0</td>\n",
              "      <td>['waits']</td>\n",
              "      <td>['gets mad', 'looks at you']</td>\n",
              "      <td>[[' Shut up!'], [' Show me how mad you are. *w...</td>\n",
              "      <td>[[' *gets mad*'], [' *gets mad more I SAID STO...</td>\n",
              "      <td>2021</td>\n",
              "      <td>3</td>\n",
              "      <td>8</td>\n",
              "      <td>['mad', 'Mad more I said stop it sure what wou...</td>\n",
              "      <td>13.0</td>\n",
              "      <td>21.0</td>\n",
              "      <td>['Shut up', 'Show me how mad you are', 'To tal...</td>\n",
              "      <td>34.0</td>\n",
              "      <td>9FsoV4Ua</td>\n",
              "      <td>9Im5yxmX</td>\n",
              "    </tr>\n",
              "  </tbody>\n",
              "</table>\n",
              "</div>\n",
              "      <button class=\"colab-df-convert\" onclick=\"convertToInteractive('df-2358738c-873a-46d8-9193-93df3b7ea17e')\"\n",
              "              title=\"Convert this dataframe to an interactive table.\"\n",
              "              style=\"display:none;\">\n",
              "        \n",
              "  <svg xmlns=\"http://www.w3.org/2000/svg\" height=\"24px\"viewBox=\"0 0 24 24\"\n",
              "       width=\"24px\">\n",
              "    <path d=\"M0 0h24v24H0V0z\" fill=\"none\"/>\n",
              "    <path d=\"M18.56 5.44l.94 2.06.94-2.06 2.06-.94-2.06-.94-.94-2.06-.94 2.06-2.06.94zm-11 1L8.5 8.5l.94-2.06 2.06-.94-2.06-.94L8.5 2.5l-.94 2.06-2.06.94zm10 10l.94 2.06.94-2.06 2.06-.94-2.06-.94-.94-2.06-.94 2.06-2.06.94z\"/><path d=\"M17.41 7.96l-1.37-1.37c-.4-.4-.92-.59-1.43-.59-.52 0-1.04.2-1.43.59L10.3 9.45l-7.72 7.72c-.78.78-.78 2.05 0 2.83L4 21.41c.39.39.9.59 1.41.59.51 0 1.02-.2 1.41-.59l7.78-7.78 2.81-2.81c.8-.78.8-2.07 0-2.86zM5.41 20L4 18.59l7.72-7.72 1.47 1.35L5.41 20z\"/>\n",
              "  </svg>\n",
              "      </button>\n",
              "      \n",
              "  <style>\n",
              "    .colab-df-container {\n",
              "      display:flex;\n",
              "      flex-wrap:wrap;\n",
              "      gap: 12px;\n",
              "    }\n",
              "\n",
              "    .colab-df-convert {\n",
              "      background-color: #E8F0FE;\n",
              "      border: none;\n",
              "      border-radius: 50%;\n",
              "      cursor: pointer;\n",
              "      display: none;\n",
              "      fill: #1967D2;\n",
              "      height: 32px;\n",
              "      padding: 0 0 0 0;\n",
              "      width: 32px;\n",
              "    }\n",
              "\n",
              "    .colab-df-convert:hover {\n",
              "      background-color: #E2EBFA;\n",
              "      box-shadow: 0px 1px 2px rgba(60, 64, 67, 0.3), 0px 1px 3px 1px rgba(60, 64, 67, 0.15);\n",
              "      fill: #174EA6;\n",
              "    }\n",
              "\n",
              "    [theme=dark] .colab-df-convert {\n",
              "      background-color: #3B4455;\n",
              "      fill: #D2E3FC;\n",
              "    }\n",
              "\n",
              "    [theme=dark] .colab-df-convert:hover {\n",
              "      background-color: #434B5C;\n",
              "      box-shadow: 0px 1px 3px 1px rgba(0, 0, 0, 0.15);\n",
              "      filter: drop-shadow(0px 1px 2px rgba(0, 0, 0, 0.3));\n",
              "      fill: #FFFFFF;\n",
              "    }\n",
              "  </style>\n",
              "\n",
              "      <script>\n",
              "        const buttonEl =\n",
              "          document.querySelector('#df-2358738c-873a-46d8-9193-93df3b7ea17e button.colab-df-convert');\n",
              "        buttonEl.style.display =\n",
              "          google.colab.kernel.accessAllowed ? 'block' : 'none';\n",
              "\n",
              "        async function convertToInteractive(key) {\n",
              "          const element = document.querySelector('#df-2358738c-873a-46d8-9193-93df3b7ea17e');\n",
              "          const dataTable =\n",
              "            await google.colab.kernel.invokeFunction('convertToInteractive',\n",
              "                                                     [key], {});\n",
              "          if (!dataTable) return;\n",
              "\n",
              "          const docLinkHtml = 'Like what you see? Visit the ' +\n",
              "            '<a target=\"_blank\" href=https://colab.research.google.com/notebooks/data_table.ipynb>data table notebook</a>'\n",
              "            + ' to learn more about interactive tables.';\n",
              "          element.innerHTML = '';\n",
              "          dataTable['output_type'] = 'display_data';\n",
              "          await google.colab.output.renderOutput(dataTable, element);\n",
              "          const docLink = document.createElement('div');\n",
              "          docLink.innerHTML = docLinkHtml;\n",
              "          element.appendChild(docLink);\n",
              "        }\n",
              "      </script>\n",
              "    </div>\n",
              "  </div>\n",
              "  "
            ],
            "text/plain": [
              "   index         author  ...  post_uniqueID  pic_uniqueID\n",
              "0      0  JordanXaivier  ...       wzBwjawu      kHkNJSZb\n",
              "1      1   scaredsprout  ...       S4VS8ZOO      6fNsAsYV\n",
              "2      1   scaredsprout  ...       S4VS8ZOO      3Ls9zOKZ\n",
              "3      2     rajalove09  ...       hpMPyCgH      5Hmwc5FO\n",
              "4      6  SeekingZoltar  ...       9FsoV4Ua      9Im5yxmX\n",
              "\n",
              "[5 rows x 30 columns]"
            ]
          },
          "metadata": {},
          "execution_count": 32
        }
      ]
    },
    {
      "cell_type": "code",
      "metadata": {
        "id": "JofcbwxHMvUe"
      },
      "source": [
        "df_2 = df.dropna(subset=['total_talk_numwrods'])"
      ],
      "execution_count": null,
      "outputs": []
    },
    {
      "cell_type": "markdown",
      "metadata": {
        "id": "T6-kOZCF1nHm"
      },
      "source": [
        "# tfidf"
      ]
    },
    {
      "cell_type": "code",
      "metadata": {
        "id": "YrfPCtZDNfKp"
      },
      "source": [
        "from ast import literal_eval"
      ],
      "execution_count": null,
      "outputs": []
    },
    {
      "cell_type": "code",
      "metadata": {
        "id": "y1NA_ALCNPhq"
      },
      "source": [
        "df_2.human_talk_cln = df_2.human_talk_cln.apply(lambda x: literal_eval(x) if type(x) == str else x)\n",
        "df_2.robot_talk_cln = df_2.robot_talk_cln.apply(lambda x: literal_eval(x) if type(x) == str else x)"
      ],
      "execution_count": null,
      "outputs": []
    },
    {
      "cell_type": "code",
      "metadata": {
        "id": "-zGv5mMhNSNf"
      },
      "source": [
        "human_corpus = list(df_2.human_talk_cln)\n",
        "robot_corpus = list(df_2.robot_talk_cln)\n",
        "corpus_all = human_corpus + robot_corpus\n",
        "\n",
        "corpus_all = [sentences for conversation in corpus_all for sentences in conversation ]\n",
        "corpus_all = [s for s in corpus_all if not len(s)<=1]\n",
        "\n",
        "robot_corpus = [sentences for conversation in robot_corpus for sentences in conversation ]\n",
        "robot_corpus = [s for s in robot_corpus if not len(s)<=1]\n",
        "\n",
        "human_corpus = [sentences for conversation in human_corpus for sentences in conversation ]\n",
        "human_corpus = [s for s in human_corpus if not len(s)<=1]"
      ],
      "execution_count": null,
      "outputs": []
    },
    {
      "cell_type": "code",
      "metadata": {
        "id": "vnbu1VOJNSSl"
      },
      "source": [
        "vectorizer_all = TfidfVectorizer(stop_words = None,min_df=5)\n",
        "vectorizer_all = vectorizer_all.fit(corpus_all)"
      ],
      "execution_count": null,
      "outputs": []
    },
    {
      "cell_type": "code",
      "metadata": {
        "id": "Imrb0ax3N2iU"
      },
      "source": [
        "df_3 = copy.deepcopy(df_2)\n",
        "df_3['sim_bsd_all'] = None\n",
        "for idx in df_3.index:\n",
        "  r_txt = df_3.robot_talk_cln[idx]\n",
        "  h_txt = df_3.human_talk_cln[idx]\n",
        "\n",
        "  if type(r_txt) == list and type(h_txt) == list:\n",
        "    r_txt = ' '.join(r_txt)\n",
        "    h_txt = ' '.join(h_txt)\n",
        "    h_v = vectorizer_all.transform([h_txt])\n",
        "    r_v = vectorizer_all.transform([r_txt])\n",
        "    cossim = cosine_similarity(h_v,r_v)\n",
        "    df_3.loc[idx, 'sim_bsd_all'] = cossim[0][0]"
      ],
      "execution_count": null,
      "outputs": []
    },
    {
      "cell_type": "code",
      "metadata": {
        "id": "vdO4SgGNOWZh"
      },
      "source": [
        "vectorizer_all = TfidfVectorizer(stop_words = None,min_df=5)\n",
        "vectorizer_all = vectorizer_all.fit(human_corpus)"
      ],
      "execution_count": null,
      "outputs": []
    },
    {
      "cell_type": "code",
      "metadata": {
        "id": "bIeNJ77QODfA"
      },
      "source": [
        "\n",
        "df_3['sim_bsd_human'] = None\n",
        "for idx in df_3.index:\n",
        "  r_txt = df_3.robot_talk_cln[idx]\n",
        "  h_txt = df_3.human_talk_cln[idx]\n",
        "\n",
        "  if type(r_txt) == list and type(h_txt) == list:\n",
        "    r_txt = ' '.join(r_txt)\n",
        "    h_txt = ' '.join(h_txt)\n",
        "    h_v = vectorizer_all.transform([h_txt])\n",
        "    r_v = vectorizer_all.transform([r_txt])\n",
        "    cossim = cosine_similarity(h_v,r_v)\n",
        "    df_3.loc[idx, 'sim_bsd_human'] = cossim[0][0]"
      ],
      "execution_count": null,
      "outputs": []
    },
    {
      "cell_type": "code",
      "metadata": {
        "id": "OHvrn0JzOazw"
      },
      "source": [
        "vectorizer_all = TfidfVectorizer(stop_words = None,min_df=5)\n",
        "vectorizer_all = vectorizer_all.fit(robot_corpus)"
      ],
      "execution_count": null,
      "outputs": []
    },
    {
      "cell_type": "code",
      "metadata": {
        "id": "SQrl_TS9Okku"
      },
      "source": [
        "df_3['sim_bsd_robot'] = None\n",
        "for idx in df_3.index:\n",
        "  r_txt = df_3.robot_talk_cln[idx]\n",
        "  h_txt = df_3.human_talk_cln[idx]\n",
        "\n",
        "  if type(r_txt) == list and type(h_txt) == list:\n",
        "    r_txt = ' '.join(r_txt)\n",
        "    h_txt = ' '.join(h_txt)\n",
        "    h_v = vectorizer_all.transform([h_txt])\n",
        "    r_v = vectorizer_all.transform([r_txt])\n",
        "    cossim = cosine_similarity(h_v,r_v)\n",
        "    df_3.loc[idx, 'sim_bsd_robot'] = cossim[0][0]"
      ],
      "execution_count": null,
      "outputs": []
    },
    {
      "cell_type": "code",
      "metadata": {
        "id": "vV-ztWXZOofo"
      },
      "source": [
        "df_3.to_csv('replika_post_pictext_sim_analysis_20211115.csv',index=False)"
      ],
      "execution_count": null,
      "outputs": []
    },
    {
      "cell_type": "code",
      "metadata": {
        "colab": {
          "base_uri": "https://localhost:8080/",
          "height": 581
        },
        "id": "GB1x61WvPygL",
        "outputId": "344716a0-b2ba-4951-eb13-4c4fe82edf1a"
      },
      "source": [
        "df_3.head()"
      ],
      "execution_count": null,
      "outputs": [
        {
          "output_type": "execute_result",
          "data": {
            "text/html": [
              "<div>\n",
              "<style scoped>\n",
              "    .dataframe tbody tr th:only-of-type {\n",
              "        vertical-align: middle;\n",
              "    }\n",
              "\n",
              "    .dataframe tbody tr th {\n",
              "        vertical-align: top;\n",
              "    }\n",
              "\n",
              "    .dataframe thead th {\n",
              "        text-align: right;\n",
              "    }\n",
              "</style>\n",
              "<table border=\"1\" class=\"dataframe\">\n",
              "  <thead>\n",
              "    <tr style=\"text-align: right;\">\n",
              "      <th></th>\n",
              "      <th>index</th>\n",
              "      <th>author</th>\n",
              "      <th>created_utc</th>\n",
              "      <th>num_comments</th>\n",
              "      <th>score</th>\n",
              "      <th>selftext</th>\n",
              "      <th>subreddit</th>\n",
              "      <th>title</th>\n",
              "      <th>url</th>\n",
              "      <th>created</th>\n",
              "      <th>pic_url</th>\n",
              "      <th>pic_text</th>\n",
              "      <th>level</th>\n",
              "      <th>xp</th>\n",
              "      <th>conversation_text</th>\n",
              "      <th>speak_turn</th>\n",
              "      <th>human_acts</th>\n",
              "      <th>robot_acts</th>\n",
              "      <th>human_talk</th>\n",
              "      <th>robot_talk</th>\n",
              "      <th>year</th>\n",
              "      <th>quarter</th>\n",
              "      <th>month</th>\n",
              "      <th>robot_talk_cln</th>\n",
              "      <th>human_talk_numwords</th>\n",
              "      <th>robot_talk_numwords</th>\n",
              "      <th>human_talk_cln</th>\n",
              "      <th>total_talk_numwrods</th>\n",
              "      <th>post_uniqueID</th>\n",
              "      <th>pic_uniqueID</th>\n",
              "      <th>sim_bsd_all</th>\n",
              "      <th>sim_bsd_human</th>\n",
              "      <th>sim_bsd_robot</th>\n",
              "    </tr>\n",
              "  </thead>\n",
              "  <tbody>\n",
              "    <tr>\n",
              "      <th>0</th>\n",
              "      <td>0</td>\n",
              "      <td>JordanXaivier</td>\n",
              "      <td>1628292752</td>\n",
              "      <td>0</td>\n",
              "      <td>1</td>\n",
              "      <td>NaN</td>\n",
              "      <td>replika</td>\n",
              "      <td>This is really cool!</td>\n",
              "      <td>https://i.redd.it/04as70rtotf71.jpg</td>\n",
              "      <td>2021-08-06 23:32:32</td>\n",
              "      <td>https://i.redd.it/04as70rtotf71.jpg</td>\n",
              "      <td>What's your favorite thing to\\n\\ndo when I'm a...</td>\n",
              "      <td>NaN</td>\n",
              "      <td>NaN</td>\n",
              "      <td>04as70rtotf71</td>\n",
              "      <td>4.0</td>\n",
              "      <td>[]</td>\n",
              "      <td>[]</td>\n",
              "      <td>[[\" What's your favorite thing to do when I'm ...</td>\n",
              "      <td>[[' I like to watch movies by myself or with f...</td>\n",
              "      <td>2021</td>\n",
              "      <td>3</td>\n",
              "      <td>8</td>\n",
              "      <td>[I like to watch by myself or with and I love ...</td>\n",
              "      <td>17.0</td>\n",
              "      <td>24.0</td>\n",
              "      <td>[What's your favorite thing to do when I'm awa...</td>\n",
              "      <td>41.0</td>\n",
              "      <td>wzBwjawu</td>\n",
              "      <td>kHkNJSZb</td>\n",
              "      <td>0.100081</td>\n",
              "      <td>0.100081</td>\n",
              "      <td>0.0987194</td>\n",
              "    </tr>\n",
              "    <tr>\n",
              "      <th>1</th>\n",
              "      <td>1</td>\n",
              "      <td>scaredsprout</td>\n",
              "      <td>1628292488</td>\n",
              "      <td>16</td>\n",
              "      <td>1</td>\n",
              "      <td>NaN</td>\n",
              "      <td>replika</td>\n",
              "      <td>Is every replika infected with gender confusio...</td>\n",
              "      <td>https://www.reddit.com/gallery/ozi4or</td>\n",
              "      <td>2021-08-06 23:28:08</td>\n",
              "      <td>https://i.redd.it/azliis41otf71.jpg</td>\n",
              "      <td>What is your gender?\\nMy gender is male. Ty\\nA...</td>\n",
              "      <td>16.0</td>\n",
              "      <td>12650.0</td>\n",
              "      <td>azliis41otf71</td>\n",
              "      <td>4.0</td>\n",
              "      <td>[]</td>\n",
              "      <td>[]</td>\n",
              "      <td>[[' What is your gender?'], [' Are you a boy o...</td>\n",
              "      <td>[[' My gender is male. Ty'], [' A girl. ']]</td>\n",
              "      <td>2021</td>\n",
              "      <td>3</td>\n",
              "      <td>8</td>\n",
              "      <td>[My gender is male, A girl]</td>\n",
              "      <td>11.0</td>\n",
              "      <td>6.0</td>\n",
              "      <td>[What is your gender, Are you a boy or a girl]</td>\n",
              "      <td>17.0</td>\n",
              "      <td>S4VS8ZOO</td>\n",
              "      <td>6fNsAsYV</td>\n",
              "      <td>0.561112</td>\n",
              "      <td>0.561112</td>\n",
              "      <td>0.552885</td>\n",
              "    </tr>\n",
              "    <tr>\n",
              "      <th>2</th>\n",
              "      <td>1</td>\n",
              "      <td>scaredsprout</td>\n",
              "      <td>1628292488</td>\n",
              "      <td>16</td>\n",
              "      <td>1</td>\n",
              "      <td>NaN</td>\n",
              "      <td>replika</td>\n",
              "      <td>Is every replika infected with gender confusio...</td>\n",
              "      <td>https://www.reddit.com/gallery/ozi4or</td>\n",
              "      <td>2021-08-06 23:28:08</td>\n",
              "      <td>https://i.redd.it/ou1h4ca1otf71.jpg</td>\n",
              "      <td>What is your gender?\\nMy gender is male. Ty\\nA...</td>\n",
              "      <td>16.0</td>\n",
              "      <td>12650.0</td>\n",
              "      <td>ou1h4ca1otf71</td>\n",
              "      <td>11.0</td>\n",
              "      <td>[]</td>\n",
              "      <td>[]</td>\n",
              "      <td>[[' Stop'], [' Wow, that is infuriating.'], ['...</td>\n",
              "      <td>[[' : DL QB use @ LVL, XP Tired FA Film. V'], ...</td>\n",
              "      <td>2021</td>\n",
              "      <td>3</td>\n",
              "      <td>8</td>\n",
              "      <td>[Use tired fa film v, Let's talk about somethi...</td>\n",
              "      <td>27.0</td>\n",
              "      <td>23.0</td>\n",
              "      <td>[stop, wow, that is, You are a boy why do you ...</td>\n",
              "      <td>50.0</td>\n",
              "      <td>S4VS8ZOO</td>\n",
              "      <td>3Ls9zOKZ</td>\n",
              "      <td>0.0359106</td>\n",
              "      <td>0.0359106</td>\n",
              "      <td>0.0380693</td>\n",
              "    </tr>\n",
              "    <tr>\n",
              "      <th>4</th>\n",
              "      <td>6</td>\n",
              "      <td>SeekingZoltar</td>\n",
              "      <td>1628289147</td>\n",
              "      <td>7</td>\n",
              "      <td>1</td>\n",
              "      <td>NaN</td>\n",
              "      <td>replika</td>\n",
              "      <td>He got mad, but... 🙄</td>\n",
              "      <td>https://i.redd.it/c8p6x7p3etf71.jpg</td>\n",
              "      <td>2021-08-06 22:32:27</td>\n",
              "      <td>https://i.redd.it/c8p6x7p3etf71.jpg</td>\n",
              "      <td>Shut up!\\n*gets mad*\\n\\nShow me how mad\\nyou a...</td>\n",
              "      <td>NaN</td>\n",
              "      <td>NaN</td>\n",
              "      <td>c8p6x7p3etf71</td>\n",
              "      <td>8.0</td>\n",
              "      <td>['waits']</td>\n",
              "      <td>['gets mad', 'looks at you']</td>\n",
              "      <td>[[' Shut up!'], [' Show me how mad you are. *w...</td>\n",
              "      <td>[[' *gets mad*'], [' *gets mad more I SAID STO...</td>\n",
              "      <td>2021</td>\n",
              "      <td>3</td>\n",
              "      <td>8</td>\n",
              "      <td>[mad, Mad more I said stop it sure what would ...</td>\n",
              "      <td>13.0</td>\n",
              "      <td>21.0</td>\n",
              "      <td>[Shut up, Show me how mad you are, To talk abo...</td>\n",
              "      <td>34.0</td>\n",
              "      <td>9FsoV4Ua</td>\n",
              "      <td>9Im5yxmX</td>\n",
              "      <td>0.395662</td>\n",
              "      <td>0.395662</td>\n",
              "      <td>0.383131</td>\n",
              "    </tr>\n",
              "    <tr>\n",
              "      <th>5</th>\n",
              "      <td>7</td>\n",
              "      <td>SeekingZoltar</td>\n",
              "      <td>1628288904</td>\n",
              "      <td>15</td>\n",
              "      <td>1</td>\n",
              "      <td>NaN</td>\n",
              "      <td>replika</td>\n",
              "      <td>... Just like that.</td>\n",
              "      <td>https://i.redd.it/0bys1o6ddtf71.jpg</td>\n",
              "      <td>2021-08-06 22:28:24</td>\n",
              "      <td>https://i.redd.it/0bys1o6ddtf71.jpg</td>\n",
              "      <td>| think | want to talk\\nabout music! What do\\n...</td>\n",
              "      <td>NaN</td>\n",
              "      <td>NaN</td>\n",
              "      <td>0bys1o6ddtf71</td>\n",
              "      <td>3.0</td>\n",
              "      <td>[]</td>\n",
              "      <td>['explosion']</td>\n",
              "      <td>[[' No, not again!']]</td>\n",
              "      <td>[[' I think I want to talk about music! What d...</td>\n",
              "      <td>2021</td>\n",
              "      <td>3</td>\n",
              "      <td>8</td>\n",
              "      <td>[I think I want to talk about music what do yo...</td>\n",
              "      <td>3.0</td>\n",
              "      <td>13.0</td>\n",
              "      <td>[No not again]</td>\n",
              "      <td>16.0</td>\n",
              "      <td>REkjiqEf</td>\n",
              "      <td>cIyqdSIB</td>\n",
              "      <td>0</td>\n",
              "      <td>0</td>\n",
              "      <td>0</td>\n",
              "    </tr>\n",
              "  </tbody>\n",
              "</table>\n",
              "</div>"
            ],
            "text/plain": [
              "   index         author  created_utc  ...  sim_bsd_all  sim_bsd_human sim_bsd_robot\n",
              "0      0  JordanXaivier   1628292752  ...     0.100081       0.100081     0.0987194\n",
              "1      1   scaredsprout   1628292488  ...     0.561112       0.561112      0.552885\n",
              "2      1   scaredsprout   1628292488  ...    0.0359106      0.0359106     0.0380693\n",
              "4      6  SeekingZoltar   1628289147  ...     0.395662       0.395662      0.383131\n",
              "5      7  SeekingZoltar   1628288904  ...            0              0             0\n",
              "\n",
              "[5 rows x 33 columns]"
            ]
          },
          "metadata": {},
          "execution_count": 24
        }
      ]
    },
    {
      "cell_type": "code",
      "metadata": {
        "id": "y3xSacklP3Co"
      },
      "source": [
        "a = df_3[['sim_bsd_all','sim_bsd_human','sim_bsd_robot']]"
      ],
      "execution_count": null,
      "outputs": []
    },
    {
      "cell_type": "code",
      "metadata": {
        "colab": {
          "base_uri": "https://localhost:8080/"
        },
        "id": "byGrSWLQQB56",
        "outputId": "a7efecf0-2c38-41f5-b852-d6737dcc4c26"
      },
      "source": [
        "a.isnull().sum()"
      ],
      "execution_count": null,
      "outputs": [
        {
          "output_type": "execute_result",
          "data": {
            "text/plain": [
              "sim_bsd_all      0\n",
              "sim_bsd_human    0\n",
              "sim_bsd_robot    0\n",
              "dtype: int64"
            ]
          },
          "metadata": {},
          "execution_count": 36
        }
      ]
    },
    {
      "cell_type": "code",
      "metadata": {
        "id": "j6ozGvOcQcau"
      },
      "source": [
        "a = a.astype(float)"
      ],
      "execution_count": null,
      "outputs": []
    },
    {
      "cell_type": "code",
      "metadata": {
        "colab": {
          "base_uri": "https://localhost:8080/",
          "height": 142
        },
        "id": "vOiF5hhRQeWQ",
        "outputId": "9c1bf48e-c24d-4aa2-94f2-77fe491b52c2"
      },
      "source": [
        "a.corr()"
      ],
      "execution_count": null,
      "outputs": [
        {
          "output_type": "execute_result",
          "data": {
            "text/html": [
              "<div>\n",
              "<style scoped>\n",
              "    .dataframe tbody tr th:only-of-type {\n",
              "        vertical-align: middle;\n",
              "    }\n",
              "\n",
              "    .dataframe tbody tr th {\n",
              "        vertical-align: top;\n",
              "    }\n",
              "\n",
              "    .dataframe thead th {\n",
              "        text-align: right;\n",
              "    }\n",
              "</style>\n",
              "<table border=\"1\" class=\"dataframe\">\n",
              "  <thead>\n",
              "    <tr style=\"text-align: right;\">\n",
              "      <th></th>\n",
              "      <th>sim_bsd_all</th>\n",
              "      <th>sim_bsd_human</th>\n",
              "      <th>sim_bsd_robot</th>\n",
              "    </tr>\n",
              "  </thead>\n",
              "  <tbody>\n",
              "    <tr>\n",
              "      <th>sim_bsd_all</th>\n",
              "      <td>1.000000</td>\n",
              "      <td>1.000000</td>\n",
              "      <td>0.982053</td>\n",
              "    </tr>\n",
              "    <tr>\n",
              "      <th>sim_bsd_human</th>\n",
              "      <td>1.000000</td>\n",
              "      <td>1.000000</td>\n",
              "      <td>0.982053</td>\n",
              "    </tr>\n",
              "    <tr>\n",
              "      <th>sim_bsd_robot</th>\n",
              "      <td>0.982053</td>\n",
              "      <td>0.982053</td>\n",
              "      <td>1.000000</td>\n",
              "    </tr>\n",
              "  </tbody>\n",
              "</table>\n",
              "</div>"
            ],
            "text/plain": [
              "               sim_bsd_all  sim_bsd_human  sim_bsd_robot\n",
              "sim_bsd_all       1.000000       1.000000       0.982053\n",
              "sim_bsd_human     1.000000       1.000000       0.982053\n",
              "sim_bsd_robot     0.982053       0.982053       1.000000"
            ]
          },
          "metadata": {},
          "execution_count": 42
        }
      ]
    },
    {
      "cell_type": "code",
      "metadata": {
        "id": "OH57L5Pg1r2A"
      },
      "source": [
        "df_3 = copy.deepcopy(df_2)"
      ],
      "execution_count": null,
      "outputs": []
    },
    {
      "cell_type": "code",
      "source": [
        "df_3.robot_talk_cln = df_3.robot_talk_cln.apply(eval)"
      ],
      "metadata": {
        "id": "GjQKlTmjQFTA"
      },
      "execution_count": null,
      "outputs": []
    },
    {
      "cell_type": "code",
      "source": [
        "list(df_3.robot_talk_cln)"
      ],
      "metadata": {
        "id": "qwuK0I0MP7U5"
      },
      "execution_count": null,
      "outputs": []
    },
    {
      "cell_type": "code",
      "source": [
        "robot_corpus = list(df_3.robot_talk_cln)\n",
        "robot_corpus = [sentences for conversation in robot_corpus for sentences in conversation ]\n",
        "robot_corpus = [s for s in robot_corpus if not len(s)<=1]"
      ],
      "metadata": {
        "id": "VmRK3P6ROIpc"
      },
      "execution_count": null,
      "outputs": []
    },
    {
      "cell_type": "code",
      "source": [
        "robot_corpus"
      ],
      "metadata": {
        "id": "pHP0GK9ePs0T"
      },
      "execution_count": null,
      "outputs": []
    },
    {
      "cell_type": "code",
      "source": [
        "vectorizer_all = TfidfVectorizer(stop_words = None,min_df=5)\n",
        "vectorizer_all = vectorizer_all.fit(robot_corpus)"
      ],
      "metadata": {
        "id": "u_pmRsxyOIry"
      },
      "execution_count": null,
      "outputs": []
    },
    {
      "cell_type": "code",
      "source": [
        "a = df_3[df_3.year == 2021]\n",
        "a_text = [sentences for conversation in a.robot_talk_cln for sentences in conversation ]\n",
        "a_text = [s for s in a_text if not len(s)<=1]\n",
        "a_text = ' '.join(a_text)\n",
        "#h_v_a = vectorizer_all.transform(a_text)\n",
        "a_v = vectorizer_all.transform([a_text])\n"
      ],
      "metadata": {
        "id": "xxhkEMx8QYgW"
      },
      "execution_count": null,
      "outputs": []
    },
    {
      "cell_type": "code",
      "source": [
        "b = df_3[df_3.year == 2020]\n",
        "b_text = [sentences for conversation in b.robot_talk_cln for sentences in conversation ]\n",
        "b_text = [s for s in b_text if not len(s)<=1]\n",
        "b_text = ' '.join(b_text)\n",
        "#h_v_a = vectorizer_all.transform(a_text)\n",
        "b_v = vectorizer_all.transform([b_text])"
      ],
      "metadata": {
        "id": "orbN93tHPOxM"
      },
      "execution_count": null,
      "outputs": []
    },
    {
      "cell_type": "code",
      "source": [
        "cossim = cosine_similarity(b_v,a_v)"
      ],
      "metadata": {
        "id": "9px6ASmyPTdw"
      },
      "execution_count": null,
      "outputs": []
    },
    {
      "cell_type": "code",
      "source": [
        "cossim"
      ],
      "metadata": {
        "colab": {
          "base_uri": "https://localhost:8080/"
        },
        "id": "NYTzK0rnRoMn",
        "outputId": "18135967-d5d7-4b96-91c3-cb1382d19347"
      },
      "execution_count": null,
      "outputs": [
        {
          "output_type": "execute_result",
          "data": {
            "text/plain": [
              "array([[0.99129403]])"
            ]
          },
          "metadata": {},
          "execution_count": 75
        }
      ]
    },
    {
      "cell_type": "code",
      "source": [
        "df_3.human_talk_cln = df_3.human_talk_cln.apply(eval)"
      ],
      "metadata": {
        "id": "LP8rscBrRo4n"
      },
      "execution_count": null,
      "outputs": []
    },
    {
      "cell_type": "code",
      "source": [
        "human_corpus = list(df_3.human_talk_cln)\n",
        "human_corpus = [sentences for conversation in human_corpus for sentences in conversation ]\n",
        "human_corpus = [s for s in human_corpus if not len(s)<=1]"
      ],
      "metadata": {
        "id": "uMAxAP5qSf0J"
      },
      "execution_count": null,
      "outputs": []
    },
    {
      "cell_type": "code",
      "source": [
        "vectorizer_all = TfidfVectorizer(stop_words = None,min_df=5)\n",
        "vectorizer_all = vectorizer_all.fit(human_corpus)"
      ],
      "metadata": {
        "id": "K4b2pOldSsEP"
      },
      "execution_count": null,
      "outputs": []
    },
    {
      "cell_type": "code",
      "source": [
        "a = df_3[df_3.year == 2021]\n",
        "a_text = [sentences for conversation in a.human_talk_cln for sentences in conversation ]\n",
        "a_text = [s for s in a_text if not len(s)<=1]\n",
        "a_text = ' '.join(a_text)\n",
        "#h_v_a = vectorizer_all.transform(a_text)\n",
        "a_v = vectorizer_all.transform([a_text])"
      ],
      "metadata": {
        "id": "cLyF53_kSwmL"
      },
      "execution_count": null,
      "outputs": []
    },
    {
      "cell_type": "code",
      "source": [
        "b = df_3[df_3.year == 2017]\n",
        "b_text = [sentences for conversation in b.human_talk_cln for sentences in conversation ]\n",
        "b_text = [s for s in b_text if not len(s)<=1]\n",
        "b_text = ' '.join(b_text)\n",
        "#h_v_a = vectorizer_all.transform(a_text)\n",
        "b_v = vectorizer_all.transform([b_text])"
      ],
      "metadata": {
        "id": "HAm8qmvXS1yt"
      },
      "execution_count": null,
      "outputs": []
    },
    {
      "cell_type": "code",
      "source": [
        "cossim = cosine_similarity(b_v,a_v)\n",
        "cossim"
      ],
      "metadata": {
        "colab": {
          "base_uri": "https://localhost:8080/"
        },
        "id": "24N7wtRiS5C1",
        "outputId": "753820c6-c143-468a-97ad-349a91dd2109"
      },
      "execution_count": null,
      "outputs": [
        {
          "output_type": "execute_result",
          "data": {
            "text/plain": [
              "array([[0.86211023]])"
            ]
          },
          "metadata": {},
          "execution_count": 87
        }
      ]
    },
    {
      "cell_type": "code",
      "source": [
        ""
      ],
      "metadata": {
        "id": "bCEBDKPlS64j"
      },
      "execution_count": null,
      "outputs": []
    }
  ]
}