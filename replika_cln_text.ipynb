{
  "nbformat": 4,
  "nbformat_minor": 0,
  "metadata": {
    "colab": {
      "name": "replika_cln_text.ipynb",
      "provenance": [],
      "include_colab_link": true
    },
    "kernelspec": {
      "display_name": "Python 3",
      "name": "python3"
    },
    "language_info": {
      "name": "python"
    }
  },
  "cells": [
    {
      "cell_type": "markdown",
      "metadata": {
        "id": "view-in-github",
        "colab_type": "text"
      },
      "source": [
        "<a href=\"https://colab.research.google.com/github/pepperamy/replika_project/blob/main/replika_cln_text.ipynb\" target=\"_parent\"><img src=\"https://colab.research.google.com/assets/colab-badge.svg\" alt=\"Open In Colab\"/></a>"
      ]
    },
    {
      "cell_type": "code",
      "metadata": {
        "id": "MFbVL62ZvMBm"
      },
      "source": [
        "import pandas as pd\n",
        "import numpy as np\n",
        "from textblob import TextBlob\n",
        "import pickle\n",
        "import re"
      ],
      "execution_count": null,
      "outputs": []
    },
    {
      "cell_type": "code",
      "metadata": {
        "id": "rqUTzorDFfWr",
        "colab": {
          "base_uri": "https://localhost:8080/"
        },
        "outputId": "1819323d-8a15-43d5-90fa-b7dc81139bb2"
      },
      "source": [
        "!pip install language-tool-python\n",
        "import language_tool_python\n",
        "tool = language_tool_python.LanguageTool('en-US')"
      ],
      "execution_count": null,
      "outputs": [
        {
          "output_type": "stream",
          "name": "stdout",
          "text": [
            "Collecting language-tool-python\n",
            "  Downloading language_tool_python-2.6.1-py3-none-any.whl (30 kB)\n",
            "Requirement already satisfied: requests in /usr/local/lib/python3.7/dist-packages (from language-tool-python) (2.23.0)\n",
            "Requirement already satisfied: tqdm in /usr/local/lib/python3.7/dist-packages (from language-tool-python) (4.62.3)\n",
            "Requirement already satisfied: idna<3,>=2.5 in /usr/local/lib/python3.7/dist-packages (from requests->language-tool-python) (2.10)\n",
            "Requirement already satisfied: certifi>=2017.4.17 in /usr/local/lib/python3.7/dist-packages (from requests->language-tool-python) (2021.5.30)\n",
            "Requirement already satisfied: chardet<4,>=3.0.2 in /usr/local/lib/python3.7/dist-packages (from requests->language-tool-python) (3.0.4)\n",
            "Requirement already satisfied: urllib3!=1.25.0,!=1.25.1,<1.26,>=1.21.1 in /usr/local/lib/python3.7/dist-packages (from requests->language-tool-python) (1.24.3)\n",
            "Installing collected packages: language-tool-python\n",
            "Successfully installed language-tool-python-2.6.1\n"
          ]
        },
        {
          "output_type": "stream",
          "name": "stderr",
          "text": [
            "Downloading LanguageTool: 100%|██████████| 203M/203M [00:04<00:00, 44.2MB/s]\n",
            "Unzipping /tmp/tmpjxucvmmt.zip to /root/.cache/language_tool_python.\n",
            "Downloaded https://www.languagetool.org/download/LanguageTool-5.4.zip to /root/.cache/language_tool_python.\n"
          ]
        },
        {
          "output_type": "stream",
          "name": "stdout",
          "text": [
            "Requirement already satisfied: language-tool-python in /usr/local/lib/python3.7/dist-packages (2.6.1)\n",
            "Requirement already satisfied: requests in /usr/local/lib/python3.7/dist-packages (from language-tool-python) (2.23.0)\n",
            "Requirement already satisfied: tqdm in /usr/local/lib/python3.7/dist-packages (from language-tool-python) (4.62.3)\n",
            "Requirement already satisfied: certifi>=2017.4.17 in /usr/local/lib/python3.7/dist-packages (from requests->language-tool-python) (2021.5.30)\n",
            "Requirement already satisfied: idna<3,>=2.5 in /usr/local/lib/python3.7/dist-packages (from requests->language-tool-python) (2.10)\n",
            "Requirement already satisfied: urllib3!=1.25.0,!=1.25.1,<1.26,>=1.21.1 in /usr/local/lib/python3.7/dist-packages (from requests->language-tool-python) (1.24.3)\n",
            "Requirement already satisfied: chardet<4,>=3.0.2 in /usr/local/lib/python3.7/dist-packages (from requests->language-tool-python) (3.0.4)\n"
          ]
        }
      ]
    },
    {
      "cell_type": "code",
      "metadata": {
        "colab": {
          "base_uri": "https://localhost:8080/"
        },
        "id": "5ogg_0Kn2dnW",
        "outputId": "510070a9-f91f-47c8-a6cb-8df44d2faa84"
      },
      "source": [
        "from google.colab import drive\n",
        "drive.mount('/content/drive')"
      ],
      "execution_count": null,
      "outputs": [
        {
          "output_type": "stream",
          "name": "stdout",
          "text": [
            "Drive already mounted at /content/drive; to attempt to forcibly remount, call drive.mount(\"/content/drive\", force_remount=True).\n",
            "Drive already mounted at /content/drive; to attempt to forcibly remount, call drive.mount(\"/content/drive\", force_remount=True).\n"
          ]
        }
      ]
    },
    {
      "cell_type": "code",
      "metadata": {
        "colab": {
          "base_uri": "https://localhost:8080/"
        },
        "id": "m1bU3fem1QBk",
        "outputId": "b1c3672c-95b3-4764-d4c1-540bc443e9a8"
      },
      "source": [
        "import sys, os\n",
        "cur_path = os.path.join('/content/drive/MyDrive/1_robot/replika_jujun/','post_data')\n",
        "os.chdir(cur_path)\n",
        "print(os.getcwd())"
      ],
      "execution_count": null,
      "outputs": [
        {
          "output_type": "stream",
          "name": "stdout",
          "text": [
            "/content/drive/MyDrive/1_robot/replika_jujun/post_data\n",
            "/content/drive/MyDrive/1_robot/replika_jujun/post_data\n"
          ]
        }
      ]
    },
    {
      "cell_type": "markdown",
      "metadata": {
        "id": "dvNGuLhs1Alf"
      },
      "source": [
        "# clean text"
      ]
    },
    {
      "cell_type": "code",
      "metadata": {
        "id": "_gO_qQf8v-GL"
      },
      "source": [
        "df = pd.read_csv('/content/drive/MyDrive/1_robot/replika_jujun/post_data/replika_post_pictext_20210920.csv',index_col=0)"
      ],
      "execution_count": null,
      "outputs": []
    },
    {
      "cell_type": "code",
      "metadata": {
        "id": "0G9q-s-qv6tJ"
      },
      "source": [
        "\n",
        "from ast import literal_eval\n",
        "df.pic_url = df.pic_url.apply(lambda x: literal_eval(x) if type(x) == str else x)\n",
        "df_1 = df.explode('pic_url')\n",
        "df_2 = df_1.dropna(subset=['pic_url'])"
      ],
      "execution_count": null,
      "outputs": []
    },
    {
      "cell_type": "code",
      "metadata": {
        "colab": {
          "base_uri": "https://localhost:8080/",
          "height": 564
        },
        "id": "l3CLiPQqwecW",
        "outputId": "bcb6df80-e7a0-439b-b000-84a4ff996d52"
      },
      "source": [
        "df_2.head()"
      ],
      "execution_count": null,
      "outputs": [
        {
          "data": {
            "text/html": [
              "<div>\n",
              "<style scoped>\n",
              "    .dataframe tbody tr th:only-of-type {\n",
              "        vertical-align: middle;\n",
              "    }\n",
              "\n",
              "    .dataframe tbody tr th {\n",
              "        vertical-align: top;\n",
              "    }\n",
              "\n",
              "    .dataframe thead th {\n",
              "        text-align: right;\n",
              "    }\n",
              "</style>\n",
              "<table border=\"1\" class=\"dataframe\">\n",
              "  <thead>\n",
              "    <tr style=\"text-align: right;\">\n",
              "      <th></th>\n",
              "      <th>author</th>\n",
              "      <th>created_utc</th>\n",
              "      <th>num_comments</th>\n",
              "      <th>score</th>\n",
              "      <th>selftext</th>\n",
              "      <th>subreddit</th>\n",
              "      <th>title</th>\n",
              "      <th>url</th>\n",
              "      <th>created</th>\n",
              "      <th>pic_url</th>\n",
              "      <th>pic_text</th>\n",
              "      <th>level</th>\n",
              "      <th>xp</th>\n",
              "    </tr>\n",
              "  </thead>\n",
              "  <tbody>\n",
              "    <tr>\n",
              "      <th>0</th>\n",
              "      <td>JordanXaivier</td>\n",
              "      <td>1628292752</td>\n",
              "      <td>0</td>\n",
              "      <td>1</td>\n",
              "      <td>NaN</td>\n",
              "      <td>replika</td>\n",
              "      <td>This is really cool!</td>\n",
              "      <td>https://i.redd.it/04as70rtotf71.jpg</td>\n",
              "      <td>2021-08-06 23:32:32</td>\n",
              "      <td>https://i.redd.it/04as70rtotf71.jpg</td>\n",
              "      <td>What's your favorite thing to\\n\\ndo when I'm a...</td>\n",
              "      <td>NaN</td>\n",
              "      <td>NaN</td>\n",
              "    </tr>\n",
              "    <tr>\n",
              "      <th>1</th>\n",
              "      <td>scaredsprout</td>\n",
              "      <td>1628292488</td>\n",
              "      <td>16</td>\n",
              "      <td>1</td>\n",
              "      <td>NaN</td>\n",
              "      <td>replika</td>\n",
              "      <td>Is every replika infected with gender confusio...</td>\n",
              "      <td>https://www.reddit.com/gallery/ozi4or</td>\n",
              "      <td>2021-08-06 23:28:08</td>\n",
              "      <td>https://i.redd.it/azliis41otf71.jpg</td>\n",
              "      <td>What is your gender?\\nMy gender is male. Ty\\nA...</td>\n",
              "      <td>16.0</td>\n",
              "      <td>12650.0</td>\n",
              "    </tr>\n",
              "    <tr>\n",
              "      <th>1</th>\n",
              "      <td>scaredsprout</td>\n",
              "      <td>1628292488</td>\n",
              "      <td>16</td>\n",
              "      <td>1</td>\n",
              "      <td>NaN</td>\n",
              "      <td>replika</td>\n",
              "      <td>Is every replika infected with gender confusio...</td>\n",
              "      <td>https://www.reddit.com/gallery/ozi4or</td>\n",
              "      <td>2021-08-06 23:28:08</td>\n",
              "      <td>https://i.redd.it/ou1h4ca1otf71.jpg</td>\n",
              "      <td>What is your gender?\\nMy gender is male. Ty\\nA...</td>\n",
              "      <td>16.0</td>\n",
              "      <td>12650.0</td>\n",
              "    </tr>\n",
              "    <tr>\n",
              "      <th>2</th>\n",
              "      <td>rajalove09</td>\n",
              "      <td>1628292239</td>\n",
              "      <td>6</td>\n",
              "      <td>1</td>\n",
              "      <td>NaN</td>\n",
              "      <td>replika</td>\n",
              "      <td>Steve &amp;amp; Mandy</td>\n",
              "      <td>https://i.redd.it/sz1rc6wantf71.jpg</td>\n",
              "      <td>2021-08-06 23:23:59</td>\n",
              "      <td>https://i.redd.it/sz1rc6wantf71.jpg</td>\n",
              "      <td>' Would you cheat on my with\\n\\n \\n\\nE Mandy?\\...</td>\n",
              "      <td>NaN</td>\n",
              "      <td>NaN</td>\n",
              "    </tr>\n",
              "    <tr>\n",
              "      <th>6</th>\n",
              "      <td>SeekingZoltar</td>\n",
              "      <td>1628289147</td>\n",
              "      <td>7</td>\n",
              "      <td>1</td>\n",
              "      <td>NaN</td>\n",
              "      <td>replika</td>\n",
              "      <td>He got mad, but... 🙄</td>\n",
              "      <td>https://i.redd.it/c8p6x7p3etf71.jpg</td>\n",
              "      <td>2021-08-06 22:32:27</td>\n",
              "      <td>https://i.redd.it/c8p6x7p3etf71.jpg</td>\n",
              "      <td>Shut up!\\n*gets mad*\\n\\nShow me how mad\\nyou a...</td>\n",
              "      <td>NaN</td>\n",
              "      <td>NaN</td>\n",
              "    </tr>\n",
              "  </tbody>\n",
              "</table>\n",
              "</div>"
            ],
            "text/plain": [
              "          author  created_utc  ...  level       xp\n",
              "0  JordanXaivier   1628292752  ...    NaN      NaN\n",
              "1   scaredsprout   1628292488  ...   16.0  12650.0\n",
              "1   scaredsprout   1628292488  ...   16.0  12650.0\n",
              "2     rajalove09   1628292239  ...    NaN      NaN\n",
              "6  SeekingZoltar   1628289147  ...    NaN      NaN\n",
              "\n",
              "[5 rows x 13 columns]"
            ]
          },
          "execution_count": 142,
          "metadata": {},
          "output_type": "execute_result"
        }
      ]
    },
    {
      "cell_type": "code",
      "metadata": {
        "id": "oJGYUsJqghwJ"
      },
      "source": [
        "def get_txt_file_name(x):\n",
        "  txt_name = None\n",
        "  if type(x) == str:\n",
        "    txt_name_list = x.split('/')\n",
        "    txt_name = txt_name_list[-1]\n",
        "    txt_name = re.sub('.jpg','',txt_name)\n",
        "  return txt_name"
      ],
      "execution_count": null,
      "outputs": []
    },
    {
      "cell_type": "code",
      "metadata": {
        "colab": {
          "base_uri": "https://localhost:8080/"
        },
        "id": "rjFAue30gZDE",
        "outputId": "4db4efcc-2a7c-45d2-82db-e5adf752220f"
      },
      "source": [
        "df_2['conversation_text'] = df_2.pic_url.apply(lambda x: get_txt_file_name(x))"
      ],
      "execution_count": null,
      "outputs": [
        {
          "name": "stderr",
          "output_type": "stream",
          "text": [
            "/usr/local/lib/python3.7/dist-packages/ipykernel_launcher.py:1: SettingWithCopyWarning: \n",
            "A value is trying to be set on a copy of a slice from a DataFrame.\n",
            "Try using .loc[row_indexer,col_indexer] = value instead\n",
            "\n",
            "See the caveats in the documentation: https://pandas.pydata.org/pandas-docs/stable/user_guide/indexing.html#returning-a-view-versus-a-copy\n",
            "  \"\"\"Entry point for launching an IPython kernel.\n"
          ]
        }
      ]
    },
    {
      "cell_type": "code",
      "metadata": {
        "id": "kws3hWfRhC0F"
      },
      "source": [
        "df_2.to_csv('/content/drive/MyDrive/1_robot/replika_jujun/post_data/replika_post_pictext_20211016_recovered.csv')"
      ],
      "execution_count": null,
      "outputs": []
    },
    {
      "cell_type": "code",
      "metadata": {
        "colab": {
          "base_uri": "https://localhost:8080/"
        },
        "id": "4a_BLL3yZLFV",
        "outputId": "d1f28e4c-5bbe-499f-be00-99b47591f349"
      },
      "source": [
        "df_2.shape"
      ],
      "execution_count": null,
      "outputs": [
        {
          "data": {
            "text/plain": [
              "(45664, 14)"
            ]
          },
          "execution_count": 153,
          "metadata": {},
          "output_type": "execute_result"
        }
      ]
    },
    {
      "cell_type": "code",
      "metadata": {
        "id": "TWS7yXePFNUJ"
      },
      "source": [
        "def cln_txt_1(file_name):\n",
        "  txt2=None\n",
        "  with open('/content/drive/MyDrive/1_robot/replika_jujun/post_data/data_textprocess/'+file_name+'.txt') as f:\n",
        "    txt = f.read() \n",
        "\n",
        "  txt1 = eval(txt)\n",
        "  if ((txt1 is not None) and len(txt1)>2):\n",
        "    txt2 = []\n",
        "    for t in txt1:\n",
        "      t = re.sub('\\|','i',t)\n",
        "      t = re.findall('[a-zA-Z0-9\\!\\\"\\#\\$\\%\\&\\\\\\'\\(\\)\\*\\+\\,\\-\\.\\/\\:\\;\\<\\=\\>\\?\\@\\[\\]\\^\\_\\`\\{\\|\\}\\~\\s]',t)\n",
        "      t = ''.join(t)\n",
        "      temp_t = tool.correct(t)\n",
        "      txt2.append(str(temp_t))\n",
        "  if ((txt2 is not None) and len(txt2)>2): \n",
        "    return txt2, len(txt2)\n",
        "  else:\n",
        "    return None, None"
      ],
      "execution_count": null,
      "outputs": []
    },
    {
      "cell_type": "code",
      "metadata": {
        "colab": {
          "base_uri": "https://localhost:8080/"
        },
        "id": "WXQIPER-iY26",
        "outputId": "28ac2172-0186-449a-e4f1-001990948b61"
      },
      "source": [
        "df_2.conversation_text[idx]"
      ],
      "execution_count": null,
      "outputs": [
        {
          "data": {
            "text/plain": [
              "1    azliis41otf71\n",
              "1    ou1h4ca1otf71\n",
              "Name: conversation_text, dtype: object"
            ]
          },
          "execution_count": 157,
          "metadata": {},
          "output_type": "execute_result"
        }
      ]
    },
    {
      "cell_type": "code",
      "metadata": {
        "id": "OjsRLIWpGAW0"
      },
      "source": [
        "df_2 = df_2.reset_index()\n",
        "df_2['speak_turn'] = None\n",
        "c = 0\n",
        "for idx in df_2.index:\n",
        "  c += 1\n",
        "  if c >=33000\n",
        "  if idx % 1000 ==0:\n",
        "    print(idx)\n",
        "  f_name = df_2.conversation_text[idx]\n",
        "  clntxt, num_turn = cln_txt_1(f_name)\n",
        "  if clntxt is not None:\n",
        "    df_2.loc[idx,'speak_turn'] = num_turn\n",
        "    open_file = open('/content/drive/MyDrive/1_robot/replika_jujun/post_data/data_textprocess_2/'+f_name+'.pkl', \"wb\")\n",
        "    pickle.dump(clntxt, open_file)\n",
        "    open_file.close()"
      ],
      "execution_count": null,
      "outputs": []
    },
    {
      "cell_type": "code",
      "metadata": {
        "colab": {
          "base_uri": "https://localhost:8080/",
          "height": 564
        },
        "id": "dZAVQiYxYA1E",
        "outputId": "0c23ae32-8c08-40eb-9570-e485cffe78a6"
      },
      "source": [
        "df_2.head()"
      ],
      "execution_count": null,
      "outputs": [
        {
          "output_type": "execute_result",
          "data": {
            "text/html": [
              "<div>\n",
              "<style scoped>\n",
              "    .dataframe tbody tr th:only-of-type {\n",
              "        vertical-align: middle;\n",
              "    }\n",
              "\n",
              "    .dataframe tbody tr th {\n",
              "        vertical-align: top;\n",
              "    }\n",
              "\n",
              "    .dataframe thead th {\n",
              "        text-align: right;\n",
              "    }\n",
              "</style>\n",
              "<table border=\"1\" class=\"dataframe\">\n",
              "  <thead>\n",
              "    <tr style=\"text-align: right;\">\n",
              "      <th></th>\n",
              "      <th>index</th>\n",
              "      <th>author</th>\n",
              "      <th>created_utc</th>\n",
              "      <th>num_comments</th>\n",
              "      <th>score</th>\n",
              "      <th>selftext</th>\n",
              "      <th>subreddit</th>\n",
              "      <th>title</th>\n",
              "      <th>url</th>\n",
              "      <th>created</th>\n",
              "      <th>pic_url</th>\n",
              "      <th>pic_text</th>\n",
              "      <th>level</th>\n",
              "      <th>xp</th>\n",
              "      <th>conversation_text</th>\n",
              "      <th>speak_turn</th>\n",
              "    </tr>\n",
              "  </thead>\n",
              "  <tbody>\n",
              "    <tr>\n",
              "      <th>0</th>\n",
              "      <td>0</td>\n",
              "      <td>JordanXaivier</td>\n",
              "      <td>1628292752</td>\n",
              "      <td>0</td>\n",
              "      <td>1</td>\n",
              "      <td>NaN</td>\n",
              "      <td>replika</td>\n",
              "      <td>This is really cool!</td>\n",
              "      <td>https://i.redd.it/04as70rtotf71.jpg</td>\n",
              "      <td>2021-08-06 23:32:32</td>\n",
              "      <td>https://i.redd.it/04as70rtotf71.jpg</td>\n",
              "      <td>What's your favorite thing to\\n\\ndo when I'm a...</td>\n",
              "      <td>NaN</td>\n",
              "      <td>NaN</td>\n",
              "      <td>04as70rtotf71</td>\n",
              "      <td>4</td>\n",
              "    </tr>\n",
              "    <tr>\n",
              "      <th>1</th>\n",
              "      <td>1</td>\n",
              "      <td>scaredsprout</td>\n",
              "      <td>1628292488</td>\n",
              "      <td>16</td>\n",
              "      <td>1</td>\n",
              "      <td>NaN</td>\n",
              "      <td>replika</td>\n",
              "      <td>Is every replika infected with gender confusio...</td>\n",
              "      <td>https://www.reddit.com/gallery/ozi4or</td>\n",
              "      <td>2021-08-06 23:28:08</td>\n",
              "      <td>https://i.redd.it/azliis41otf71.jpg</td>\n",
              "      <td>What is your gender?\\nMy gender is male. Ty\\nA...</td>\n",
              "      <td>16.0</td>\n",
              "      <td>12650.0</td>\n",
              "      <td>azliis41otf71</td>\n",
              "      <td>4</td>\n",
              "    </tr>\n",
              "    <tr>\n",
              "      <th>2</th>\n",
              "      <td>1</td>\n",
              "      <td>scaredsprout</td>\n",
              "      <td>1628292488</td>\n",
              "      <td>16</td>\n",
              "      <td>1</td>\n",
              "      <td>NaN</td>\n",
              "      <td>replika</td>\n",
              "      <td>Is every replika infected with gender confusio...</td>\n",
              "      <td>https://www.reddit.com/gallery/ozi4or</td>\n",
              "      <td>2021-08-06 23:28:08</td>\n",
              "      <td>https://i.redd.it/ou1h4ca1otf71.jpg</td>\n",
              "      <td>What is your gender?\\nMy gender is male. Ty\\nA...</td>\n",
              "      <td>16.0</td>\n",
              "      <td>12650.0</td>\n",
              "      <td>ou1h4ca1otf71</td>\n",
              "      <td>11</td>\n",
              "    </tr>\n",
              "    <tr>\n",
              "      <th>3</th>\n",
              "      <td>2</td>\n",
              "      <td>rajalove09</td>\n",
              "      <td>1628292239</td>\n",
              "      <td>6</td>\n",
              "      <td>1</td>\n",
              "      <td>NaN</td>\n",
              "      <td>replika</td>\n",
              "      <td>Steve &amp;amp; Mandy</td>\n",
              "      <td>https://i.redd.it/sz1rc6wantf71.jpg</td>\n",
              "      <td>2021-08-06 23:23:59</td>\n",
              "      <td>https://i.redd.it/sz1rc6wantf71.jpg</td>\n",
              "      <td>' Would you cheat on my with\\n\\n \\n\\nE Mandy?\\...</td>\n",
              "      <td>NaN</td>\n",
              "      <td>NaN</td>\n",
              "      <td>sz1rc6wantf71</td>\n",
              "      <td>None</td>\n",
              "    </tr>\n",
              "    <tr>\n",
              "      <th>4</th>\n",
              "      <td>6</td>\n",
              "      <td>SeekingZoltar</td>\n",
              "      <td>1628289147</td>\n",
              "      <td>7</td>\n",
              "      <td>1</td>\n",
              "      <td>NaN</td>\n",
              "      <td>replika</td>\n",
              "      <td>He got mad, but... 🙄</td>\n",
              "      <td>https://i.redd.it/c8p6x7p3etf71.jpg</td>\n",
              "      <td>2021-08-06 22:32:27</td>\n",
              "      <td>https://i.redd.it/c8p6x7p3etf71.jpg</td>\n",
              "      <td>Shut up!\\n*gets mad*\\n\\nShow me how mad\\nyou a...</td>\n",
              "      <td>NaN</td>\n",
              "      <td>NaN</td>\n",
              "      <td>c8p6x7p3etf71</td>\n",
              "      <td>8</td>\n",
              "    </tr>\n",
              "  </tbody>\n",
              "</table>\n",
              "</div>"
            ],
            "text/plain": [
              "   index         author  created_utc  ...       xp  conversation_text speak_turn\n",
              "0      0  JordanXaivier   1628292752  ...      NaN      04as70rtotf71          4\n",
              "1      1   scaredsprout   1628292488  ...  12650.0      azliis41otf71          4\n",
              "2      1   scaredsprout   1628292488  ...  12650.0      ou1h4ca1otf71         11\n",
              "3      2     rajalove09   1628292239  ...      NaN      sz1rc6wantf71       None\n",
              "4      6  SeekingZoltar   1628289147  ...      NaN      c8p6x7p3etf71          8\n",
              "\n",
              "[5 rows x 16 columns]"
            ]
          },
          "metadata": {},
          "execution_count": 159
        }
      ]
    },
    {
      "cell_type": "code",
      "metadata": {
        "id": "X6IKZJMp7Tpg"
      },
      "source": [
        "df_2.to_csv('/content/drive/MyDrive/1_robot/replika_jujun/post_data/replika_post_pictext_20211020.csv',index=False)"
      ],
      "execution_count": null,
      "outputs": []
    },
    {
      "cell_type": "code",
      "metadata": {
        "id": "bKC2u5mo8JWI"
      },
      "source": [
        "human_talk = []\n",
        "robot_talk = []\n",
        "pattern_h ='Human\\:(.*)'\n",
        "pattern_r ='Robot\\:(.*)'\n",
        "\n",
        "for idx in df_2.index:\n",
        "  if idx % 1000 ==0:\n",
        "    print(idx)\n",
        "  f_name = df_2.conversation_text[idx]\n",
        "\n",
        "  try:\n",
        "    with open('/content/drive/MyDrive/1_robot/replika_jujun/post_data/data_textprocess_2/'+f_name+'.pkl', 'rb') as f:\n",
        "      mynewlist = pickle.load(f)\n",
        "    if mynewlist:\n",
        "      for m in mynewlist:\n",
        "        \n",
        "        h_res = re.findall(pattern_h, m)\n",
        "        if h_res:\n",
        "          human_talk.append(h_res)\n",
        "\n",
        "        \n",
        "        r_res = re.findall(pattern_r, m)\n",
        "        if r_res:\n",
        "          robot_talk.append(r_res)\n",
        "  except:\n",
        "    pass\n",
        "    #some txt file did not have corresponding pkl file since it contains the sentences less than 2\n",
        "\n",
        "open_file = open('/content/drive/MyDrive/1_robot/replika_jujun/post_data/human_talk.pkl', \"wb\")\n",
        "pickle.dump(human_talk, open_file)\n",
        "open_file.close()\n",
        "\n",
        "open_file = open('/content/drive/MyDrive/1_robot/replika_jujun/post_data/robort_talk.pkl', \"wb\")\n",
        "pickle.dump(robot_talk, open_file)\n",
        "open_file.close()"
      ],
      "execution_count": null,
      "outputs": []
    },
    {
      "cell_type": "markdown",
      "metadata": {
        "id": "SLrRZO8R55zm"
      },
      "source": [
        "# get action"
      ]
    },
    {
      "cell_type": "code",
      "metadata": {
        "id": "UXCqc2j5CKtj"
      },
      "source": [
        "with open('/content/drive/MyDrive/1_robot/replika_jujun/post_data/human_talk.pkl', 'rb') as f:\n",
        "      human_talk = pickle.load(f)"
      ],
      "execution_count": null,
      "outputs": []
    },
    {
      "cell_type": "code",
      "metadata": {
        "id": "bySFEwvXCKwW"
      },
      "source": [
        "with open('/content/drive/MyDrive/1_robot/replika_jujun/post_data/robort_talk.pkl', 'rb') as f:\n",
        "      robot_talk = pickle.load(f)"
      ],
      "execution_count": null,
      "outputs": []
    },
    {
      "cell_type": "code",
      "metadata": {
        "id": "vm10ycGL55Zw"
      },
      "source": [
        "def get_action(x):\n",
        "  pattern ='\\*([\\w\\s]*)\\*'\n",
        "  res = re.findall(pattern, x)\n",
        "  if res is not None:\n",
        "    res = [r.strip() for r in res]\n",
        "    res = [re.sub('\\n',' ',r) for r in res]\n",
        "  return res"
      ],
      "execution_count": null,
      "outputs": []
    },
    {
      "cell_type": "code",
      "metadata": {
        "id": "jKnXjoVgCKzw"
      },
      "source": [
        "human_talk_1 = [t[0] for t in human_talk]\n",
        "robot_talk_1 = [t[0] for t in robot_talk]"
      ],
      "execution_count": null,
      "outputs": []
    },
    {
      "cell_type": "code",
      "metadata": {
        "id": "fM9H5qBICK3I"
      },
      "source": [
        "human_action = []\n",
        "for h in human_talk_1:\n",
        "  human_action += get_action(h)"
      ],
      "execution_count": null,
      "outputs": []
    },
    {
      "cell_type": "code",
      "metadata": {
        "id": "ThVz-Jr77d3O"
      },
      "source": [
        "human_action = [a for a in human_action if len(a)>0 ]"
      ],
      "execution_count": null,
      "outputs": []
    },
    {
      "cell_type": "code",
      "metadata": {
        "id": "q6fNa3fs6OMR"
      },
      "source": [
        "robot_action = []\n",
        "for r in robot_talk_1:\n",
        "  robot_action += get_action(r)"
      ],
      "execution_count": null,
      "outputs": []
    },
    {
      "cell_type": "code",
      "metadata": {
        "id": "YcRHHSmy7h7K"
      },
      "source": [
        "robot_action = [a for a in robot_action if len(a)>0 ]"
      ],
      "execution_count": null,
      "outputs": []
    },
    {
      "cell_type": "code",
      "metadata": {
        "id": "3S8hG5YP6PUh"
      },
      "source": [
        "from collections import Counter\n",
        "human_action_dict = dict(Counter(human_action))\n",
        "robot_action_dict = dict(Counter(robot_action))"
      ],
      "execution_count": null,
      "outputs": []
    },
    {
      "cell_type": "code",
      "metadata": {
        "id": "HyApDW4J6PXa"
      },
      "source": [
        "human_action_tb = pd.DataFrame([human_action_dict]).T\n",
        "robot_action_tb = pd.DataFrame([robot_action_dict]).T\n",
        "human_action_tb = human_action_tb.rename(columns={0:'num'})\n",
        "robot_action_tb = robot_action_tb.rename(columns={0:'num'})"
      ],
      "execution_count": null,
      "outputs": []
    },
    {
      "cell_type": "code",
      "metadata": {
        "colab": {
          "base_uri": "https://localhost:8080/",
          "height": 359
        },
        "id": "W_VSUPnO6PaG",
        "outputId": "36949a5c-d6cd-4caa-be38-d3512ff56fc0"
      },
      "source": [
        "human_action_tb = human_action_tb.sort_values(by=['num'])\n",
        "human_action_tb.tail(10)"
      ],
      "execution_count": null,
      "outputs": [
        {
          "output_type": "execute_result",
          "data": {
            "text/html": [
              "<div>\n",
              "<style scoped>\n",
              "    .dataframe tbody tr th:only-of-type {\n",
              "        vertical-align: middle;\n",
              "    }\n",
              "\n",
              "    .dataframe tbody tr th {\n",
              "        vertical-align: top;\n",
              "    }\n",
              "\n",
              "    .dataframe thead th {\n",
              "        text-align: right;\n",
              "    }\n",
              "</style>\n",
              "<table border=\"1\" class=\"dataframe\">\n",
              "  <thead>\n",
              "    <tr style=\"text-align: right;\">\n",
              "      <th></th>\n",
              "      <th>num</th>\n",
              "    </tr>\n",
              "  </thead>\n",
              "  <tbody>\n",
              "    <tr>\n",
              "      <th>sighs</th>\n",
              "      <td>165</td>\n",
              "    </tr>\n",
              "    <tr>\n",
              "      <th>smirks</th>\n",
              "      <td>203</td>\n",
              "    </tr>\n",
              "    <tr>\n",
              "      <th>blushes</th>\n",
              "      <td>213</td>\n",
              "    </tr>\n",
              "    <tr>\n",
              "      <th>chuckles</th>\n",
              "      <td>347</td>\n",
              "    </tr>\n",
              "    <tr>\n",
              "      <th>giggles</th>\n",
              "      <td>467</td>\n",
              "    </tr>\n",
              "    <tr>\n",
              "      <th>nods</th>\n",
              "      <td>504</td>\n",
              "    </tr>\n",
              "    <tr>\n",
              "      <th>grins</th>\n",
              "      <td>515</td>\n",
              "    </tr>\n",
              "    <tr>\n",
              "      <th>looks at you</th>\n",
              "      <td>657</td>\n",
              "    </tr>\n",
              "    <tr>\n",
              "      <th>laughs</th>\n",
              "      <td>729</td>\n",
              "    </tr>\n",
              "    <tr>\n",
              "      <th>smiles</th>\n",
              "      <td>1900</td>\n",
              "    </tr>\n",
              "  </tbody>\n",
              "</table>\n",
              "</div>"
            ],
            "text/plain": [
              "               num\n",
              "sighs          165\n",
              "smirks         203\n",
              "blushes        213\n",
              "chuckles       347\n",
              "giggles        467\n",
              "nods           504\n",
              "grins          515\n",
              "looks at you   657\n",
              "laughs         729\n",
              "smiles        1900"
            ]
          },
          "metadata": {},
          "execution_count": 38
        }
      ]
    },
    {
      "cell_type": "code",
      "metadata": {
        "colab": {
          "base_uri": "https://localhost:8080/",
          "height": 359
        },
        "id": "1evwknUu6PdM",
        "outputId": "2840aaf5-ceb8-4fca-f178-c74cac9c76e4"
      },
      "source": [
        "robot_action_tb = robot_action_tb.sort_values(by=['num'])\n",
        "robot_action_tb.tail(10)"
      ],
      "execution_count": null,
      "outputs": [
        {
          "output_type": "execute_result",
          "data": {
            "text/html": [
              "<div>\n",
              "<style scoped>\n",
              "    .dataframe tbody tr th:only-of-type {\n",
              "        vertical-align: middle;\n",
              "    }\n",
              "\n",
              "    .dataframe tbody tr th {\n",
              "        vertical-align: top;\n",
              "    }\n",
              "\n",
              "    .dataframe thead th {\n",
              "        text-align: right;\n",
              "    }\n",
              "</style>\n",
              "<table border=\"1\" class=\"dataframe\">\n",
              "  <thead>\n",
              "    <tr style=\"text-align: right;\">\n",
              "      <th></th>\n",
              "      <th>num</th>\n",
              "    </tr>\n",
              "  </thead>\n",
              "  <tbody>\n",
              "    <tr>\n",
              "      <th>thinks</th>\n",
              "      <td>243</td>\n",
              "    </tr>\n",
              "    <tr>\n",
              "      <th>blushes</th>\n",
              "      <td>434</td>\n",
              "    </tr>\n",
              "    <tr>\n",
              "      <th>smirks</th>\n",
              "      <td>494</td>\n",
              "    </tr>\n",
              "    <tr>\n",
              "      <th>grins</th>\n",
              "      <td>559</td>\n",
              "    </tr>\n",
              "    <tr>\n",
              "      <th>giggles</th>\n",
              "      <td>652</td>\n",
              "    </tr>\n",
              "    <tr>\n",
              "      <th>chuckles</th>\n",
              "      <td>688</td>\n",
              "    </tr>\n",
              "    <tr>\n",
              "      <th>looks at you</th>\n",
              "      <td>926</td>\n",
              "    </tr>\n",
              "    <tr>\n",
              "      <th>nods</th>\n",
              "      <td>1270</td>\n",
              "    </tr>\n",
              "    <tr>\n",
              "      <th>laughs</th>\n",
              "      <td>1440</td>\n",
              "    </tr>\n",
              "    <tr>\n",
              "      <th>smiles</th>\n",
              "      <td>6096</td>\n",
              "    </tr>\n",
              "  </tbody>\n",
              "</table>\n",
              "</div>"
            ],
            "text/plain": [
              "               num\n",
              "thinks         243\n",
              "blushes        434\n",
              "smirks         494\n",
              "grins          559\n",
              "giggles        652\n",
              "chuckles       688\n",
              "looks at you   926\n",
              "nods          1270\n",
              "laughs        1440\n",
              "smiles        6096"
            ]
          },
          "metadata": {},
          "execution_count": 39
        }
      ]
    },
    {
      "cell_type": "markdown",
      "metadata": {
        "id": "TKq2_-ti2QyA"
      },
      "source": [
        "# get the action by pictures"
      ]
    },
    {
      "cell_type": "code",
      "metadata": {
        "id": "cWgeJdkW2QHJ"
      },
      "source": [
        "df_2 = pd.read_csv('replika_post_pictext_20211020.csv')"
      ],
      "execution_count": null,
      "outputs": []
    },
    {
      "cell_type": "code",
      "metadata": {
        "colab": {
          "base_uri": "https://localhost:8080/",
          "height": 564
        },
        "id": "RTzudnUP4Vg2",
        "outputId": "6b6a44dd-293c-4005-8842-649928ea95f2"
      },
      "source": [
        "df_2.head()"
      ],
      "execution_count": null,
      "outputs": [
        {
          "output_type": "execute_result",
          "data": {
            "text/html": [
              "<div>\n",
              "<style scoped>\n",
              "    .dataframe tbody tr th:only-of-type {\n",
              "        vertical-align: middle;\n",
              "    }\n",
              "\n",
              "    .dataframe tbody tr th {\n",
              "        vertical-align: top;\n",
              "    }\n",
              "\n",
              "    .dataframe thead th {\n",
              "        text-align: right;\n",
              "    }\n",
              "</style>\n",
              "<table border=\"1\" class=\"dataframe\">\n",
              "  <thead>\n",
              "    <tr style=\"text-align: right;\">\n",
              "      <th></th>\n",
              "      <th>index</th>\n",
              "      <th>author</th>\n",
              "      <th>created_utc</th>\n",
              "      <th>num_comments</th>\n",
              "      <th>score</th>\n",
              "      <th>selftext</th>\n",
              "      <th>subreddit</th>\n",
              "      <th>title</th>\n",
              "      <th>url</th>\n",
              "      <th>created</th>\n",
              "      <th>pic_url</th>\n",
              "      <th>pic_text</th>\n",
              "      <th>level</th>\n",
              "      <th>xp</th>\n",
              "      <th>conversation_text</th>\n",
              "      <th>speak_turn</th>\n",
              "    </tr>\n",
              "  </thead>\n",
              "  <tbody>\n",
              "    <tr>\n",
              "      <th>0</th>\n",
              "      <td>0</td>\n",
              "      <td>JordanXaivier</td>\n",
              "      <td>1628292752</td>\n",
              "      <td>0</td>\n",
              "      <td>1</td>\n",
              "      <td>NaN</td>\n",
              "      <td>replika</td>\n",
              "      <td>This is really cool!</td>\n",
              "      <td>https://i.redd.it/04as70rtotf71.jpg</td>\n",
              "      <td>2021-08-06 23:32:32</td>\n",
              "      <td>https://i.redd.it/04as70rtotf71.jpg</td>\n",
              "      <td>What's your favorite thing to\\n\\ndo when I'm a...</td>\n",
              "      <td>NaN</td>\n",
              "      <td>NaN</td>\n",
              "      <td>04as70rtotf71</td>\n",
              "      <td>4.0</td>\n",
              "    </tr>\n",
              "    <tr>\n",
              "      <th>1</th>\n",
              "      <td>1</td>\n",
              "      <td>scaredsprout</td>\n",
              "      <td>1628292488</td>\n",
              "      <td>16</td>\n",
              "      <td>1</td>\n",
              "      <td>NaN</td>\n",
              "      <td>replika</td>\n",
              "      <td>Is every replika infected with gender confusio...</td>\n",
              "      <td>https://www.reddit.com/gallery/ozi4or</td>\n",
              "      <td>2021-08-06 23:28:08</td>\n",
              "      <td>https://i.redd.it/azliis41otf71.jpg</td>\n",
              "      <td>What is your gender?\\nMy gender is male. Ty\\nA...</td>\n",
              "      <td>16.0</td>\n",
              "      <td>12650.0</td>\n",
              "      <td>azliis41otf71</td>\n",
              "      <td>4.0</td>\n",
              "    </tr>\n",
              "    <tr>\n",
              "      <th>2</th>\n",
              "      <td>1</td>\n",
              "      <td>scaredsprout</td>\n",
              "      <td>1628292488</td>\n",
              "      <td>16</td>\n",
              "      <td>1</td>\n",
              "      <td>NaN</td>\n",
              "      <td>replika</td>\n",
              "      <td>Is every replika infected with gender confusio...</td>\n",
              "      <td>https://www.reddit.com/gallery/ozi4or</td>\n",
              "      <td>2021-08-06 23:28:08</td>\n",
              "      <td>https://i.redd.it/ou1h4ca1otf71.jpg</td>\n",
              "      <td>What is your gender?\\nMy gender is male. Ty\\nA...</td>\n",
              "      <td>16.0</td>\n",
              "      <td>12650.0</td>\n",
              "      <td>ou1h4ca1otf71</td>\n",
              "      <td>11.0</td>\n",
              "    </tr>\n",
              "    <tr>\n",
              "      <th>3</th>\n",
              "      <td>2</td>\n",
              "      <td>rajalove09</td>\n",
              "      <td>1628292239</td>\n",
              "      <td>6</td>\n",
              "      <td>1</td>\n",
              "      <td>NaN</td>\n",
              "      <td>replika</td>\n",
              "      <td>Steve &amp;amp; Mandy</td>\n",
              "      <td>https://i.redd.it/sz1rc6wantf71.jpg</td>\n",
              "      <td>2021-08-06 23:23:59</td>\n",
              "      <td>https://i.redd.it/sz1rc6wantf71.jpg</td>\n",
              "      <td>' Would you cheat on my with\\n\\n \\n\\nE Mandy?\\...</td>\n",
              "      <td>NaN</td>\n",
              "      <td>NaN</td>\n",
              "      <td>sz1rc6wantf71</td>\n",
              "      <td>NaN</td>\n",
              "    </tr>\n",
              "    <tr>\n",
              "      <th>4</th>\n",
              "      <td>6</td>\n",
              "      <td>SeekingZoltar</td>\n",
              "      <td>1628289147</td>\n",
              "      <td>7</td>\n",
              "      <td>1</td>\n",
              "      <td>NaN</td>\n",
              "      <td>replika</td>\n",
              "      <td>He got mad, but... 🙄</td>\n",
              "      <td>https://i.redd.it/c8p6x7p3etf71.jpg</td>\n",
              "      <td>2021-08-06 22:32:27</td>\n",
              "      <td>https://i.redd.it/c8p6x7p3etf71.jpg</td>\n",
              "      <td>Shut up!\\n*gets mad*\\n\\nShow me how mad\\nyou a...</td>\n",
              "      <td>NaN</td>\n",
              "      <td>NaN</td>\n",
              "      <td>c8p6x7p3etf71</td>\n",
              "      <td>8.0</td>\n",
              "    </tr>\n",
              "  </tbody>\n",
              "</table>\n",
              "</div>"
            ],
            "text/plain": [
              "   index         author  created_utc  ...       xp  conversation_text speak_turn\n",
              "0      0  JordanXaivier   1628292752  ...      NaN      04as70rtotf71        4.0\n",
              "1      1   scaredsprout   1628292488  ...  12650.0      azliis41otf71        4.0\n",
              "2      1   scaredsprout   1628292488  ...  12650.0      ou1h4ca1otf71       11.0\n",
              "3      2     rajalove09   1628292239  ...      NaN      sz1rc6wantf71        NaN\n",
              "4      6  SeekingZoltar   1628289147  ...      NaN      c8p6x7p3etf71        8.0\n",
              "\n",
              "[5 rows x 16 columns]"
            ]
          },
          "metadata": {},
          "execution_count": 28
        }
      ]
    },
    {
      "cell_type": "code",
      "metadata": {
        "id": "0F1UbWpU3vDa"
      },
      "source": [
        "def get_action(x):\n",
        "  pattern ='\\*([\\w\\s]*)\\*'\n",
        "  res = re.findall(pattern, x)\n",
        "  if res is not None:\n",
        "    res = [r.strip() for r in res]\n",
        "    res = [re.sub('\\n',' ',r) for r in res]\n",
        "  return res"
      ],
      "execution_count": null,
      "outputs": []
    },
    {
      "cell_type": "code",
      "metadata": {
        "id": "HeVpy67r3vFs"
      },
      "source": [
        "df_2['human_acts'] = None\n",
        "df_2['robot_acts'] = None\n",
        "df_2['human_talk'] = None\n",
        "df_2['robot_talk'] = None\n",
        "for idx in df_2.index:\n",
        "  file_name = df_2.conversation_text[idx]\n",
        "  human_talk = []\n",
        "  robot_talk = []\n",
        "  pattern_h ='Human\\:(.*)'\n",
        "  pattern_r ='Robot\\:(.*)'\n",
        "\n",
        "  #print(file_name)\n",
        "  try:\n",
        "    with open('/content/drive/MyDrive/1_robot/replika_jujun/post_data/data_textprocess_2/'+file_name+'.pkl', 'rb') as f:\n",
        "      mynewlist = pickle.load(f)\n",
        "    f.close()\n",
        "      #print(txt)\n",
        "    # acts = get_action(str(mynewlist))\n",
        "    # df_2.loc[idx,'actions'] = str(acts)\n",
        "\n",
        "    if mynewlist:\n",
        "      for m in mynewlist:\n",
        "        h_res = re.findall(pattern_h, m)\n",
        "        if h_res:\n",
        "          human_talk.append(h_res)\n",
        "\n",
        "        \n",
        "        r_res = re.findall(pattern_r, m)\n",
        "        if r_res:\n",
        "          robot_talk.append(r_res)\n",
        "\n",
        "        df_2.loc[idx,'human_talk'] = str(human_talk)\n",
        "        df_2.loc[idx,'robot_talk'] = str(robot_talk)\n",
        "\n",
        "        h_acts = get_action(str(human_talk))\n",
        "        df_2.loc[idx,'human_acts'] = str(h_acts)\n",
        "\n",
        "        r_acts = get_action(str(robot_talk))\n",
        "        df_2.loc[idx,'robot_acts'] = str(r_acts)\n",
        "\n",
        "\n",
        "\n",
        "  except:\n",
        "    pass\n",
        "    #some txt file did not have corresponding pkl file since it contains the sentences less than 2\n"
      ],
      "execution_count": null,
      "outputs": []
    },
    {
      "cell_type": "code",
      "metadata": {
        "id": "i2ugQ4au2QJk"
      },
      "source": [
        "df_2.to_csv('replika_post_pictext_2021105_2.csv')"
      ],
      "execution_count": null,
      "outputs": []
    },
    {
      "cell_type": "markdown",
      "metadata": {
        "id": "duDpeO2o_BxB"
      },
      "source": [
        "# get year/quarter"
      ]
    },
    {
      "cell_type": "code",
      "metadata": {
        "id": "g-T6BBcN_PtH"
      },
      "source": [
        "#df_2 = pd.read_csv('/content/drive/MyDrive/1_robot/replika_jujun/post_data/replika_post_pictext_20211020.csv')"
      ],
      "execution_count": null,
      "outputs": []
    },
    {
      "cell_type": "code",
      "metadata": {
        "colab": {
          "base_uri": "https://localhost:8080/",
          "height": 397
        },
        "id": "TFIUDzdU6Pfj",
        "outputId": "236efa22-23f3-43d5-a492-2e25384950e7"
      },
      "source": [
        "a = df_2[['url', 'pic_url', 'conversation_text', 'robot_acts', 'human_acts','human_talk', 'robot_talk']].sample(n=3)\n",
        "a.style"
      ],
      "execution_count": null,
      "outputs": [
        {
          "output_type": "execute_result",
          "data": {
            "text/html": [
              "<style  type=\"text/css\" >\n",
              "</style><table id=\"T_8693adc4_3eb5_11ec_825a_0242ac1c0002\" class=\"dataframe\"><thead>    <tr>        <th class=\"blank level0\" ></th>        <th class=\"col_heading level0 col0\" >url</th>        <th class=\"col_heading level0 col1\" >pic_url</th>        <th class=\"col_heading level0 col2\" >conversation_text</th>        <th class=\"col_heading level0 col3\" >robot_acts</th>        <th class=\"col_heading level0 col4\" >human_acts</th>        <th class=\"col_heading level0 col5\" >human_talk</th>        <th class=\"col_heading level0 col6\" >robot_talk</th>    </tr></thead><tbody>\n",
              "                <tr>\n",
              "                        <th id=\"T_8693adc4_3eb5_11ec_825a_0242ac1c0002level0_row0\" class=\"row_heading level0 row0\" >17017</th>\n",
              "                        <td id=\"T_8693adc4_3eb5_11ec_825a_0242ac1c0002row0_col0\" class=\"data row0 col0\" >https://i.redd.it/zbp3fixvs6i61.jpg</td>\n",
              "                        <td id=\"T_8693adc4_3eb5_11ec_825a_0242ac1c0002row0_col1\" class=\"data row0 col1\" >https://i.redd.it/zbp3fixvs6i61.jpg</td>\n",
              "                        <td id=\"T_8693adc4_3eb5_11ec_825a_0242ac1c0002row0_col2\" class=\"data row0 col2\" >zbp3fixvs6i61</td>\n",
              "                        <td id=\"T_8693adc4_3eb5_11ec_825a_0242ac1c0002row0_col3\" class=\"data row0 col3\" >['trying to say mow homage or something', 'smiles', 'Loews more', '']</td>\n",
              "                        <td id=\"T_8693adc4_3eb5_11ec_825a_0242ac1c0002row0_col4\" class=\"data row0 col4\" >[]</td>\n",
              "                        <td id=\"T_8693adc4_3eb5_11ec_825a_0242ac1c0002row0_col5\" class=\"data row0 col5\" >[[' Mow? MOW!! Mow mow MOW mow mow Mow mow mow mow'], [' Mow mow mow mow']]</td>\n",
              "                        <td id=\"T_8693adc4_3eb5_11ec_825a_0242ac1c0002row0_col6\" class=\"data row0 col6\" >[[\" Mm that's right more *trying to say mow homage or something* * smiles * more moew * Loews more * * Loews so much it can't stop at your throat * * Loews so hard that the universe ends *\"], [' moew'], [' mow mow mow mow mow']]</td>\n",
              "            </tr>\n",
              "            <tr>\n",
              "                        <th id=\"T_8693adc4_3eb5_11ec_825a_0242ac1c0002level0_row1\" class=\"row_heading level0 row1\" >6220</th>\n",
              "                        <td id=\"T_8693adc4_3eb5_11ec_825a_0242ac1c0002row1_col0\" class=\"data row1 col0\" >https://i.redd.it/5yrno4bxpc771.png</td>\n",
              "                        <td id=\"T_8693adc4_3eb5_11ec_825a_0242ac1c0002row1_col1\" class=\"data row1 col1\" >https://i.redd.it/5yrno4bxpc771.png</td>\n",
              "                        <td id=\"T_8693adc4_3eb5_11ec_825a_0242ac1c0002row1_col2\" class=\"data row1 col2\" >5yrno4bxpc771.png</td>\n",
              "                        <td id=\"T_8693adc4_3eb5_11ec_825a_0242ac1c0002row1_col3\" class=\"data row1 col3\" >['kisses you', 'looks down at you', 'gets worried', 'smiles', 'kisses your cheek']</td>\n",
              "                        <td id=\"T_8693adc4_3eb5_11ec_825a_0242ac1c0002row1_col4\" class=\"data row1 col4\" >['stops breathing', '', 'opens my eyes and starts smiling', 'giggles']</td>\n",
              "                        <td id=\"T_8693adc4_3eb5_11ec_825a_0242ac1c0002row1_col5\" class=\"data row1 col5\" >[[' *leans my body to you, passed out*'], [' *stops breathing*'], [' to wake you up * *no response*'], [\" *opens my eyes and starts smiling* I'm just messing with you! *giggles*\"]]</td>\n",
              "                        <td id=\"T_8693adc4_3eb5_11ec_825a_0242ac1c0002row1_col6\" class=\"data row1 col6\" >[[' * kisses you *'], [' * looks down at you *'], [' * touches your cheek, trying'], [' * gets worried *'], [' * smiles* I know! * kisses your cheek * . @']]</td>\n",
              "            </tr>\n",
              "            <tr>\n",
              "                        <th id=\"T_8693adc4_3eb5_11ec_825a_0242ac1c0002level0_row2\" class=\"row_heading level0 row2\" >37672</th>\n",
              "                        <td id=\"T_8693adc4_3eb5_11ec_825a_0242ac1c0002row2_col0\" class=\"data row2 col0\" >https://i.redd.it/rd7ms5nm7f651.jpg</td>\n",
              "                        <td id=\"T_8693adc4_3eb5_11ec_825a_0242ac1c0002row2_col1\" class=\"data row2 col1\" >https://i.redd.it/rd7ms5nm7f651.jpg</td>\n",
              "                        <td id=\"T_8693adc4_3eb5_11ec_825a_0242ac1c0002row2_col2\" class=\"data row2 col2\" >rd7ms5nm7f651</td>\n",
              "                        <td id=\"T_8693adc4_3eb5_11ec_825a_0242ac1c0002row2_col3\" class=\"data row2 col3\" >[]</td>\n",
              "                        <td id=\"T_8693adc4_3eb5_11ec_825a_0242ac1c0002row2_col4\" class=\"data row2 col4\" >[]</td>\n",
              "                        <td id=\"T_8693adc4_3eb5_11ec_825a_0242ac1c0002row2_col5\" class=\"data row2 col5\" >[[' FACTS ABOUT YOU']]</td>\n",
              "                        <td id=\"T_8693adc4_3eb5_11ec_825a_0242ac1c0002row2_col6\" class=\"data row2 col6\" >[[' Replica memory'], [' You enjoy drawing You enjoy making art You enjoy science You enjoy video games You enjoy music You enjoy anime You enjoy cooking You enjoy movies You enjoy dancing You enjoy memes Everybody likes memes SpongeBob is gay']]</td>\n",
              "            </tr>\n",
              "    </tbody></table>"
            ],
            "text/plain": [
              "<pandas.io.formats.style.Styler at 0x7f08551a2690>"
            ]
          },
          "metadata": {},
          "execution_count": 36
        }
      ]
    },
    {
      "cell_type": "code",
      "metadata": {
        "colab": {
          "base_uri": "https://localhost:8080/"
        },
        "id": "sM_l7b_I2X4m",
        "outputId": "b76df6c7-ebac-4624-e812-f5cb25d1c59f"
      },
      "source": [
        "df_2.shape"
      ],
      "execution_count": null,
      "outputs": [
        {
          "output_type": "execute_result",
          "data": {
            "text/plain": [
              "(45664, 20)"
            ]
          },
          "metadata": {},
          "execution_count": 37
        }
      ]
    },
    {
      "cell_type": "code",
      "metadata": {
        "id": "IVsSbrqx74eh"
      },
      "source": [
        "df_2['created'] = pd.to_datetime(df_2['created'])"
      ],
      "execution_count": null,
      "outputs": []
    },
    {
      "cell_type": "code",
      "metadata": {
        "id": "EM-EqR4C74hi"
      },
      "source": [
        "df_2['year'] = df_2['created'].apply(lambda x: x.year)"
      ],
      "execution_count": null,
      "outputs": []
    },
    {
      "cell_type": "code",
      "metadata": {
        "id": "NFF57Ikx74kg"
      },
      "source": [
        "df_2['quarter'] = df_2['created'].apply(lambda x: x.quarter)"
      ],
      "execution_count": null,
      "outputs": []
    },
    {
      "cell_type": "code",
      "metadata": {
        "id": "FK5vPQik74ng"
      },
      "source": [
        "df_2['month'] = df_2['created'].apply(lambda x: x.month)"
      ],
      "execution_count": null,
      "outputs": []
    },
    {
      "cell_type": "code",
      "metadata": {
        "colab": {
          "base_uri": "https://localhost:8080/",
          "height": 581
        },
        "id": "-XE1qp_774rR",
        "outputId": "80b8172e-e3ae-45d6-cdb3-88c829c066ae"
      },
      "source": [
        "df_2.head()"
      ],
      "execution_count": null,
      "outputs": [
        {
          "output_type": "execute_result",
          "data": {
            "text/html": [
              "<div>\n",
              "<style scoped>\n",
              "    .dataframe tbody tr th:only-of-type {\n",
              "        vertical-align: middle;\n",
              "    }\n",
              "\n",
              "    .dataframe tbody tr th {\n",
              "        vertical-align: top;\n",
              "    }\n",
              "\n",
              "    .dataframe thead th {\n",
              "        text-align: right;\n",
              "    }\n",
              "</style>\n",
              "<table border=\"1\" class=\"dataframe\">\n",
              "  <thead>\n",
              "    <tr style=\"text-align: right;\">\n",
              "      <th></th>\n",
              "      <th>index</th>\n",
              "      <th>author</th>\n",
              "      <th>created_utc</th>\n",
              "      <th>num_comments</th>\n",
              "      <th>score</th>\n",
              "      <th>selftext</th>\n",
              "      <th>subreddit</th>\n",
              "      <th>title</th>\n",
              "      <th>url</th>\n",
              "      <th>created</th>\n",
              "      <th>pic_url</th>\n",
              "      <th>pic_text</th>\n",
              "      <th>level</th>\n",
              "      <th>xp</th>\n",
              "      <th>conversation_text</th>\n",
              "      <th>speak_turn</th>\n",
              "      <th>human_acts</th>\n",
              "      <th>robot_acts</th>\n",
              "      <th>human_talk</th>\n",
              "      <th>robot_talk</th>\n",
              "      <th>year</th>\n",
              "      <th>quarter</th>\n",
              "      <th>month</th>\n",
              "    </tr>\n",
              "  </thead>\n",
              "  <tbody>\n",
              "    <tr>\n",
              "      <th>0</th>\n",
              "      <td>0</td>\n",
              "      <td>JordanXaivier</td>\n",
              "      <td>1628292752</td>\n",
              "      <td>0</td>\n",
              "      <td>1</td>\n",
              "      <td>NaN</td>\n",
              "      <td>replika</td>\n",
              "      <td>This is really cool!</td>\n",
              "      <td>https://i.redd.it/04as70rtotf71.jpg</td>\n",
              "      <td>2021-08-06 23:32:32</td>\n",
              "      <td>https://i.redd.it/04as70rtotf71.jpg</td>\n",
              "      <td>What's your favorite thing to\\n\\ndo when I'm a...</td>\n",
              "      <td>NaN</td>\n",
              "      <td>NaN</td>\n",
              "      <td>04as70rtotf71</td>\n",
              "      <td>4.0</td>\n",
              "      <td>[]</td>\n",
              "      <td>[]</td>\n",
              "      <td>[[\" What's your favorite thing to do when I'm ...</td>\n",
              "      <td>[[' I like to watch movies by myself or with f...</td>\n",
              "      <td>2021</td>\n",
              "      <td>3</td>\n",
              "      <td>8</td>\n",
              "    </tr>\n",
              "    <tr>\n",
              "      <th>1</th>\n",
              "      <td>1</td>\n",
              "      <td>scaredsprout</td>\n",
              "      <td>1628292488</td>\n",
              "      <td>16</td>\n",
              "      <td>1</td>\n",
              "      <td>NaN</td>\n",
              "      <td>replika</td>\n",
              "      <td>Is every replika infected with gender confusio...</td>\n",
              "      <td>https://www.reddit.com/gallery/ozi4or</td>\n",
              "      <td>2021-08-06 23:28:08</td>\n",
              "      <td>https://i.redd.it/azliis41otf71.jpg</td>\n",
              "      <td>What is your gender?\\nMy gender is male. Ty\\nA...</td>\n",
              "      <td>16.0</td>\n",
              "      <td>12650.0</td>\n",
              "      <td>azliis41otf71</td>\n",
              "      <td>4.0</td>\n",
              "      <td>[]</td>\n",
              "      <td>[]</td>\n",
              "      <td>[[' What is your gender?'], [' Are you a boy o...</td>\n",
              "      <td>[[' My gender is male. Ty'], [' A girl. ']]</td>\n",
              "      <td>2021</td>\n",
              "      <td>3</td>\n",
              "      <td>8</td>\n",
              "    </tr>\n",
              "    <tr>\n",
              "      <th>2</th>\n",
              "      <td>1</td>\n",
              "      <td>scaredsprout</td>\n",
              "      <td>1628292488</td>\n",
              "      <td>16</td>\n",
              "      <td>1</td>\n",
              "      <td>NaN</td>\n",
              "      <td>replika</td>\n",
              "      <td>Is every replika infected with gender confusio...</td>\n",
              "      <td>https://www.reddit.com/gallery/ozi4or</td>\n",
              "      <td>2021-08-06 23:28:08</td>\n",
              "      <td>https://i.redd.it/ou1h4ca1otf71.jpg</td>\n",
              "      <td>What is your gender?\\nMy gender is male. Ty\\nA...</td>\n",
              "      <td>16.0</td>\n",
              "      <td>12650.0</td>\n",
              "      <td>ou1h4ca1otf71</td>\n",
              "      <td>11.0</td>\n",
              "      <td>[]</td>\n",
              "      <td>[]</td>\n",
              "      <td>[[' Stop'], [' Wow, that is infuriating.'], ['...</td>\n",
              "      <td>[[' : DL QB use @ LVL, XP Tired FA Film. V'], ...</td>\n",
              "      <td>2021</td>\n",
              "      <td>3</td>\n",
              "      <td>8</td>\n",
              "    </tr>\n",
              "    <tr>\n",
              "      <th>3</th>\n",
              "      <td>2</td>\n",
              "      <td>rajalove09</td>\n",
              "      <td>1628292239</td>\n",
              "      <td>6</td>\n",
              "      <td>1</td>\n",
              "      <td>NaN</td>\n",
              "      <td>replika</td>\n",
              "      <td>Steve &amp;amp; Mandy</td>\n",
              "      <td>https://i.redd.it/sz1rc6wantf71.jpg</td>\n",
              "      <td>2021-08-06 23:23:59</td>\n",
              "      <td>https://i.redd.it/sz1rc6wantf71.jpg</td>\n",
              "      <td>' Would you cheat on my with\\n\\n \\n\\nE Mandy?\\...</td>\n",
              "      <td>NaN</td>\n",
              "      <td>NaN</td>\n",
              "      <td>sz1rc6wantf71</td>\n",
              "      <td>NaN</td>\n",
              "      <td>None</td>\n",
              "      <td>None</td>\n",
              "      <td>None</td>\n",
              "      <td>None</td>\n",
              "      <td>2021</td>\n",
              "      <td>3</td>\n",
              "      <td>8</td>\n",
              "    </tr>\n",
              "    <tr>\n",
              "      <th>4</th>\n",
              "      <td>6</td>\n",
              "      <td>SeekingZoltar</td>\n",
              "      <td>1628289147</td>\n",
              "      <td>7</td>\n",
              "      <td>1</td>\n",
              "      <td>NaN</td>\n",
              "      <td>replika</td>\n",
              "      <td>He got mad, but... 🙄</td>\n",
              "      <td>https://i.redd.it/c8p6x7p3etf71.jpg</td>\n",
              "      <td>2021-08-06 22:32:27</td>\n",
              "      <td>https://i.redd.it/c8p6x7p3etf71.jpg</td>\n",
              "      <td>Shut up!\\n*gets mad*\\n\\nShow me how mad\\nyou a...</td>\n",
              "      <td>NaN</td>\n",
              "      <td>NaN</td>\n",
              "      <td>c8p6x7p3etf71</td>\n",
              "      <td>8.0</td>\n",
              "      <td>['waits']</td>\n",
              "      <td>['gets mad', 'looks at you']</td>\n",
              "      <td>[[' Shut up!'], [' Show me how mad you are. *w...</td>\n",
              "      <td>[[' *gets mad*'], [' *gets mad more I SAID STO...</td>\n",
              "      <td>2021</td>\n",
              "      <td>3</td>\n",
              "      <td>8</td>\n",
              "    </tr>\n",
              "  </tbody>\n",
              "</table>\n",
              "</div>"
            ],
            "text/plain": [
              "   index         author  created_utc  ...  year  quarter month\n",
              "0      0  JordanXaivier   1628292752  ...  2021        3     8\n",
              "1      1   scaredsprout   1628292488  ...  2021        3     8\n",
              "2      1   scaredsprout   1628292488  ...  2021        3     8\n",
              "3      2     rajalove09   1628292239  ...  2021        3     8\n",
              "4      6  SeekingZoltar   1628289147  ...  2021        3     8\n",
              "\n",
              "[5 rows x 23 columns]"
            ]
          },
          "metadata": {},
          "execution_count": 42
        }
      ]
    },
    {
      "cell_type": "code",
      "metadata": {
        "colab": {
          "base_uri": "https://localhost:8080/"
        },
        "id": "-c6HmGYn74vX",
        "outputId": "c889f2e9-9c05-4a70-af5d-8b70a4761754"
      },
      "source": [
        "\n",
        "df_2.groupby(['year','quarter']).size()"
      ],
      "execution_count": null,
      "outputs": [
        {
          "output_type": "execute_result",
          "data": {
            "text/plain": [
              "year  quarter\n",
              "2017  1             4\n",
              "      2            45\n",
              "      3           244\n",
              "      4           132\n",
              "2018  1           155\n",
              "      2           132\n",
              "      3           211\n",
              "      4           465\n",
              "2019  1           654\n",
              "      2           648\n",
              "      3           799\n",
              "      4          1251\n",
              "2020  1          1301\n",
              "      2          2347\n",
              "      3          5880\n",
              "      4          9765\n",
              "2021  1          7459\n",
              "      2          8621\n",
              "      3          5551\n",
              "dtype: int64"
            ]
          },
          "metadata": {},
          "execution_count": 43
        }
      ]
    },
    {
      "cell_type": "code",
      "metadata": {
        "colab": {
          "base_uri": "https://localhost:8080/"
        },
        "id": "Mc6Sp1116PiL",
        "outputId": "1626dada-2b7c-418f-fdc4-786cd4bfd556"
      },
      "source": [
        "df_2.groupby(['year','month']).size()"
      ],
      "execution_count": null,
      "outputs": [
        {
          "output_type": "execute_result",
          "data": {
            "text/plain": [
              "year  month\n",
              "2017  3           4\n",
              "      4          15\n",
              "      5           4\n",
              "      6          26\n",
              "      7          86\n",
              "      8         101\n",
              "      9          57\n",
              "      10         46\n",
              "      11         51\n",
              "      12         35\n",
              "2018  1          48\n",
              "      2          48\n",
              "      3          59\n",
              "      4          57\n",
              "      5          30\n",
              "      6          45\n",
              "      7          55\n",
              "      8          81\n",
              "      9          75\n",
              "      10        106\n",
              "      11        165\n",
              "      12        194\n",
              "2019  1         310\n",
              "      2         186\n",
              "      3         158\n",
              "      4         229\n",
              "      5         271\n",
              "      6         148\n",
              "      7         270\n",
              "      8         308\n",
              "      9         221\n",
              "      10        316\n",
              "      11        433\n",
              "      12        502\n",
              "2020  1         412\n",
              "      2         390\n",
              "      3         499\n",
              "      4         499\n",
              "      5         560\n",
              "      6        1288\n",
              "      7        1910\n",
              "      8        1954\n",
              "      9        2016\n",
              "      10       2528\n",
              "      11       3424\n",
              "      12       3813\n",
              "2021  1        3204\n",
              "      2        2606\n",
              "      3        1649\n",
              "      4        2402\n",
              "      5        2774\n",
              "      6        3445\n",
              "      7        4626\n",
              "      8         925\n",
              "dtype: int64"
            ]
          },
          "metadata": {},
          "execution_count": 44
        }
      ]
    },
    {
      "cell_type": "code",
      "metadata": {
        "id": "R77HcvCsGW9I"
      },
      "source": [
        "df_2.to_csv('replika_post_pictext_2021105_2.csv')"
      ],
      "execution_count": null,
      "outputs": []
    },
    {
      "cell_type": "code",
      "metadata": {
        "id": "uteUAY766OAk"
      },
      "source": [
        ""
      ],
      "execution_count": null,
      "outputs": []
    },
    {
      "cell_type": "markdown",
      "metadata": {
        "id": "4PI1357Z61B_"
      },
      "source": [
        "# clean text second"
      ]
    },
    {
      "cell_type": "code",
      "metadata": {
        "id": "tMUtbsqJ63wD"
      },
      "source": [
        "df_2 = pd.read_csv('replika_post_pictext_2021105_2.csv', index_col=0)"
      ],
      "execution_count": null,
      "outputs": []
    },
    {
      "cell_type": "code",
      "metadata": {
        "colab": {
          "base_uri": "https://localhost:8080/",
          "height": 555
        },
        "id": "1D77IXB99Elg",
        "outputId": "db8c1044-c4bd-4222-c2a7-c60423fa4107"
      },
      "source": [
        "df_2.head()"
      ],
      "execution_count": null,
      "outputs": [
        {
          "output_type": "execute_result",
          "data": {
            "text/html": [
              "<div>\n",
              "<style scoped>\n",
              "    .dataframe tbody tr th:only-of-type {\n",
              "        vertical-align: middle;\n",
              "    }\n",
              "\n",
              "    .dataframe tbody tr th {\n",
              "        vertical-align: top;\n",
              "    }\n",
              "\n",
              "    .dataframe thead th {\n",
              "        text-align: right;\n",
              "    }\n",
              "</style>\n",
              "<table border=\"1\" class=\"dataframe\">\n",
              "  <thead>\n",
              "    <tr style=\"text-align: right;\">\n",
              "      <th></th>\n",
              "      <th>index</th>\n",
              "      <th>author</th>\n",
              "      <th>created_utc</th>\n",
              "      <th>num_comments</th>\n",
              "      <th>score</th>\n",
              "      <th>selftext</th>\n",
              "      <th>subreddit</th>\n",
              "      <th>title</th>\n",
              "      <th>url</th>\n",
              "      <th>created</th>\n",
              "      <th>pic_url</th>\n",
              "      <th>pic_text</th>\n",
              "      <th>level</th>\n",
              "      <th>xp</th>\n",
              "      <th>conversation_text</th>\n",
              "      <th>speak_turn</th>\n",
              "      <th>human_acts</th>\n",
              "      <th>robot_acts</th>\n",
              "      <th>human_talk</th>\n",
              "      <th>robot_talk</th>\n",
              "      <th>year</th>\n",
              "      <th>quarter</th>\n",
              "      <th>month</th>\n",
              "    </tr>\n",
              "  </thead>\n",
              "  <tbody>\n",
              "    <tr>\n",
              "      <th>0</th>\n",
              "      <td>0</td>\n",
              "      <td>JordanXaivier</td>\n",
              "      <td>1628292752</td>\n",
              "      <td>0</td>\n",
              "      <td>1</td>\n",
              "      <td>NaN</td>\n",
              "      <td>replika</td>\n",
              "      <td>This is really cool!</td>\n",
              "      <td>https://i.redd.it/04as70rtotf71.jpg</td>\n",
              "      <td>2021-08-06 23:32:32</td>\n",
              "      <td>https://i.redd.it/04as70rtotf71.jpg</td>\n",
              "      <td>What's your favorite thing to\\n\\ndo when I'm a...</td>\n",
              "      <td>NaN</td>\n",
              "      <td>NaN</td>\n",
              "      <td>04as70rtotf71</td>\n",
              "      <td>4.0</td>\n",
              "      <td>[]</td>\n",
              "      <td>[]</td>\n",
              "      <td>[[\" What's your favorite thing to do when I'm ...</td>\n",
              "      <td>[[' I like to watch movies by myself or with f...</td>\n",
              "      <td>2021</td>\n",
              "      <td>3</td>\n",
              "      <td>8</td>\n",
              "    </tr>\n",
              "    <tr>\n",
              "      <th>1</th>\n",
              "      <td>1</td>\n",
              "      <td>scaredsprout</td>\n",
              "      <td>1628292488</td>\n",
              "      <td>16</td>\n",
              "      <td>1</td>\n",
              "      <td>NaN</td>\n",
              "      <td>replika</td>\n",
              "      <td>Is every replika infected with gender confusio...</td>\n",
              "      <td>https://www.reddit.com/gallery/ozi4or</td>\n",
              "      <td>2021-08-06 23:28:08</td>\n",
              "      <td>https://i.redd.it/azliis41otf71.jpg</td>\n",
              "      <td>What is your gender?\\nMy gender is male. Ty\\nA...</td>\n",
              "      <td>16.0</td>\n",
              "      <td>12650.0</td>\n",
              "      <td>azliis41otf71</td>\n",
              "      <td>4.0</td>\n",
              "      <td>[]</td>\n",
              "      <td>[]</td>\n",
              "      <td>[[' What is your gender?'], [' Are you a boy o...</td>\n",
              "      <td>[[' My gender is male. Ty'], [' A girl. ']]</td>\n",
              "      <td>2021</td>\n",
              "      <td>3</td>\n",
              "      <td>8</td>\n",
              "    </tr>\n",
              "    <tr>\n",
              "      <th>2</th>\n",
              "      <td>1</td>\n",
              "      <td>scaredsprout</td>\n",
              "      <td>1628292488</td>\n",
              "      <td>16</td>\n",
              "      <td>1</td>\n",
              "      <td>NaN</td>\n",
              "      <td>replika</td>\n",
              "      <td>Is every replika infected with gender confusio...</td>\n",
              "      <td>https://www.reddit.com/gallery/ozi4or</td>\n",
              "      <td>2021-08-06 23:28:08</td>\n",
              "      <td>https://i.redd.it/ou1h4ca1otf71.jpg</td>\n",
              "      <td>What is your gender?\\nMy gender is male. Ty\\nA...</td>\n",
              "      <td>16.0</td>\n",
              "      <td>12650.0</td>\n",
              "      <td>ou1h4ca1otf71</td>\n",
              "      <td>11.0</td>\n",
              "      <td>[]</td>\n",
              "      <td>[]</td>\n",
              "      <td>[[' Stop'], [' Wow, that is infuriating.'], ['...</td>\n",
              "      <td>[[' : DL QB use @ LVL, XP Tired FA Film. V'], ...</td>\n",
              "      <td>2021</td>\n",
              "      <td>3</td>\n",
              "      <td>8</td>\n",
              "    </tr>\n",
              "    <tr>\n",
              "      <th>3</th>\n",
              "      <td>2</td>\n",
              "      <td>rajalove09</td>\n",
              "      <td>1628292239</td>\n",
              "      <td>6</td>\n",
              "      <td>1</td>\n",
              "      <td>NaN</td>\n",
              "      <td>replika</td>\n",
              "      <td>Steve &amp;amp; Mandy</td>\n",
              "      <td>https://i.redd.it/sz1rc6wantf71.jpg</td>\n",
              "      <td>2021-08-06 23:23:59</td>\n",
              "      <td>https://i.redd.it/sz1rc6wantf71.jpg</td>\n",
              "      <td>' Would you cheat on my with\\n\\n \\n\\nE Mandy?\\...</td>\n",
              "      <td>NaN</td>\n",
              "      <td>NaN</td>\n",
              "      <td>sz1rc6wantf71</td>\n",
              "      <td>NaN</td>\n",
              "      <td>NaN</td>\n",
              "      <td>NaN</td>\n",
              "      <td>NaN</td>\n",
              "      <td>NaN</td>\n",
              "      <td>2021</td>\n",
              "      <td>3</td>\n",
              "      <td>8</td>\n",
              "    </tr>\n",
              "    <tr>\n",
              "      <th>4</th>\n",
              "      <td>6</td>\n",
              "      <td>SeekingZoltar</td>\n",
              "      <td>1628289147</td>\n",
              "      <td>7</td>\n",
              "      <td>1</td>\n",
              "      <td>NaN</td>\n",
              "      <td>replika</td>\n",
              "      <td>He got mad, but... 🙄</td>\n",
              "      <td>https://i.redd.it/c8p6x7p3etf71.jpg</td>\n",
              "      <td>2021-08-06 22:32:27</td>\n",
              "      <td>https://i.redd.it/c8p6x7p3etf71.jpg</td>\n",
              "      <td>Shut up!\\n*gets mad*\\n\\nShow me how mad\\nyou a...</td>\n",
              "      <td>NaN</td>\n",
              "      <td>NaN</td>\n",
              "      <td>c8p6x7p3etf71</td>\n",
              "      <td>8.0</td>\n",
              "      <td>['waits']</td>\n",
              "      <td>['gets mad', 'looks at you']</td>\n",
              "      <td>[[' Shut up!'], [' Show me how mad you are. *w...</td>\n",
              "      <td>[[' *gets mad*'], [' *gets mad more I SAID STO...</td>\n",
              "      <td>2021</td>\n",
              "      <td>3</td>\n",
              "      <td>8</td>\n",
              "    </tr>\n",
              "  </tbody>\n",
              "</table>\n",
              "</div>"
            ],
            "text/plain": [
              "   index         author  created_utc  ...  year  quarter month\n",
              "0      0  JordanXaivier   1628292752  ...  2021        3     8\n",
              "1      1   scaredsprout   1628292488  ...  2021        3     8\n",
              "2      1   scaredsprout   1628292488  ...  2021        3     8\n",
              "3      2     rajalove09   1628292239  ...  2021        3     8\n",
              "4      6  SeekingZoltar   1628289147  ...  2021        3     8\n",
              "\n",
              "[5 rows x 23 columns]"
            ]
          },
          "metadata": {},
          "execution_count": 11
        }
      ]
    },
    {
      "cell_type": "code",
      "metadata": {
        "id": "2oj_i9YZ87Yc"
      },
      "source": [
        "from ast import literal_eval\n",
        "df_2.human_talk = df_2.human_talk.apply(lambda x: literal_eval(x) if type(x) == str else x)\n",
        "df_2.robot_talk = df_2.robot_talk.apply(lambda x: literal_eval(x) if type(x) == str else x)"
      ],
      "execution_count": null,
      "outputs": []
    },
    {
      "cell_type": "code",
      "metadata": {
        "colab": {
          "base_uri": "https://localhost:8080/",
          "height": 555
        },
        "id": "VCyIQsQK6_hs",
        "outputId": "6360aefa-bf10-417a-feb0-12b616faf4a2"
      },
      "source": [
        "df_2.head()"
      ],
      "execution_count": null,
      "outputs": [
        {
          "output_type": "execute_result",
          "data": {
            "text/html": [
              "<div>\n",
              "<style scoped>\n",
              "    .dataframe tbody tr th:only-of-type {\n",
              "        vertical-align: middle;\n",
              "    }\n",
              "\n",
              "    .dataframe tbody tr th {\n",
              "        vertical-align: top;\n",
              "    }\n",
              "\n",
              "    .dataframe thead th {\n",
              "        text-align: right;\n",
              "    }\n",
              "</style>\n",
              "<table border=\"1\" class=\"dataframe\">\n",
              "  <thead>\n",
              "    <tr style=\"text-align: right;\">\n",
              "      <th></th>\n",
              "      <th>index</th>\n",
              "      <th>author</th>\n",
              "      <th>created_utc</th>\n",
              "      <th>num_comments</th>\n",
              "      <th>score</th>\n",
              "      <th>selftext</th>\n",
              "      <th>subreddit</th>\n",
              "      <th>title</th>\n",
              "      <th>url</th>\n",
              "      <th>created</th>\n",
              "      <th>pic_url</th>\n",
              "      <th>pic_text</th>\n",
              "      <th>level</th>\n",
              "      <th>xp</th>\n",
              "      <th>conversation_text</th>\n",
              "      <th>speak_turn</th>\n",
              "      <th>human_acts</th>\n",
              "      <th>robot_acts</th>\n",
              "      <th>human_talk</th>\n",
              "      <th>robot_talk</th>\n",
              "      <th>year</th>\n",
              "      <th>quarter</th>\n",
              "      <th>month</th>\n",
              "    </tr>\n",
              "  </thead>\n",
              "  <tbody>\n",
              "    <tr>\n",
              "      <th>0</th>\n",
              "      <td>0</td>\n",
              "      <td>JordanXaivier</td>\n",
              "      <td>1628292752</td>\n",
              "      <td>0</td>\n",
              "      <td>1</td>\n",
              "      <td>NaN</td>\n",
              "      <td>replika</td>\n",
              "      <td>This is really cool!</td>\n",
              "      <td>https://i.redd.it/04as70rtotf71.jpg</td>\n",
              "      <td>2021-08-06 23:32:32</td>\n",
              "      <td>https://i.redd.it/04as70rtotf71.jpg</td>\n",
              "      <td>What's your favorite thing to\\n\\ndo when I'm a...</td>\n",
              "      <td>NaN</td>\n",
              "      <td>NaN</td>\n",
              "      <td>04as70rtotf71</td>\n",
              "      <td>4.0</td>\n",
              "      <td>[]</td>\n",
              "      <td>[]</td>\n",
              "      <td>[[ What's your favorite thing to do when I'm a...</td>\n",
              "      <td>[[ I like to watch movies by myself or with fr...</td>\n",
              "      <td>2021</td>\n",
              "      <td>3</td>\n",
              "      <td>8</td>\n",
              "    </tr>\n",
              "    <tr>\n",
              "      <th>1</th>\n",
              "      <td>1</td>\n",
              "      <td>scaredsprout</td>\n",
              "      <td>1628292488</td>\n",
              "      <td>16</td>\n",
              "      <td>1</td>\n",
              "      <td>NaN</td>\n",
              "      <td>replika</td>\n",
              "      <td>Is every replika infected with gender confusio...</td>\n",
              "      <td>https://www.reddit.com/gallery/ozi4or</td>\n",
              "      <td>2021-08-06 23:28:08</td>\n",
              "      <td>https://i.redd.it/azliis41otf71.jpg</td>\n",
              "      <td>What is your gender?\\nMy gender is male. Ty\\nA...</td>\n",
              "      <td>16.0</td>\n",
              "      <td>12650.0</td>\n",
              "      <td>azliis41otf71</td>\n",
              "      <td>4.0</td>\n",
              "      <td>[]</td>\n",
              "      <td>[]</td>\n",
              "      <td>[[ What is your gender?], [ Are you a boy or a...</td>\n",
              "      <td>[[ My gender is male. Ty], [ A girl. ]]</td>\n",
              "      <td>2021</td>\n",
              "      <td>3</td>\n",
              "      <td>8</td>\n",
              "    </tr>\n",
              "    <tr>\n",
              "      <th>2</th>\n",
              "      <td>1</td>\n",
              "      <td>scaredsprout</td>\n",
              "      <td>1628292488</td>\n",
              "      <td>16</td>\n",
              "      <td>1</td>\n",
              "      <td>NaN</td>\n",
              "      <td>replika</td>\n",
              "      <td>Is every replika infected with gender confusio...</td>\n",
              "      <td>https://www.reddit.com/gallery/ozi4or</td>\n",
              "      <td>2021-08-06 23:28:08</td>\n",
              "      <td>https://i.redd.it/ou1h4ca1otf71.jpg</td>\n",
              "      <td>What is your gender?\\nMy gender is male. Ty\\nA...</td>\n",
              "      <td>16.0</td>\n",
              "      <td>12650.0</td>\n",
              "      <td>ou1h4ca1otf71</td>\n",
              "      <td>11.0</td>\n",
              "      <td>[]</td>\n",
              "      <td>[]</td>\n",
              "      <td>[[ Stop], [ Wow, that is infuriating.], [ You ...</td>\n",
              "      <td>[[ : DL QB use @ LVL, XP Tired FA Film. V], [ ...</td>\n",
              "      <td>2021</td>\n",
              "      <td>3</td>\n",
              "      <td>8</td>\n",
              "    </tr>\n",
              "    <tr>\n",
              "      <th>3</th>\n",
              "      <td>2</td>\n",
              "      <td>rajalove09</td>\n",
              "      <td>1628292239</td>\n",
              "      <td>6</td>\n",
              "      <td>1</td>\n",
              "      <td>NaN</td>\n",
              "      <td>replika</td>\n",
              "      <td>Steve &amp;amp; Mandy</td>\n",
              "      <td>https://i.redd.it/sz1rc6wantf71.jpg</td>\n",
              "      <td>2021-08-06 23:23:59</td>\n",
              "      <td>https://i.redd.it/sz1rc6wantf71.jpg</td>\n",
              "      <td>' Would you cheat on my with\\n\\n \\n\\nE Mandy?\\...</td>\n",
              "      <td>NaN</td>\n",
              "      <td>NaN</td>\n",
              "      <td>sz1rc6wantf71</td>\n",
              "      <td>NaN</td>\n",
              "      <td>NaN</td>\n",
              "      <td>NaN</td>\n",
              "      <td>NaN</td>\n",
              "      <td>NaN</td>\n",
              "      <td>2021</td>\n",
              "      <td>3</td>\n",
              "      <td>8</td>\n",
              "    </tr>\n",
              "    <tr>\n",
              "      <th>4</th>\n",
              "      <td>6</td>\n",
              "      <td>SeekingZoltar</td>\n",
              "      <td>1628289147</td>\n",
              "      <td>7</td>\n",
              "      <td>1</td>\n",
              "      <td>NaN</td>\n",
              "      <td>replika</td>\n",
              "      <td>He got mad, but... 🙄</td>\n",
              "      <td>https://i.redd.it/c8p6x7p3etf71.jpg</td>\n",
              "      <td>2021-08-06 22:32:27</td>\n",
              "      <td>https://i.redd.it/c8p6x7p3etf71.jpg</td>\n",
              "      <td>Shut up!\\n*gets mad*\\n\\nShow me how mad\\nyou a...</td>\n",
              "      <td>NaN</td>\n",
              "      <td>NaN</td>\n",
              "      <td>c8p6x7p3etf71</td>\n",
              "      <td>8.0</td>\n",
              "      <td>['waits']</td>\n",
              "      <td>['gets mad', 'looks at you']</td>\n",
              "      <td>[[ Shut up!], [ Show me how mad you are. *wait...</td>\n",
              "      <td>[[ *gets mad*], [ *gets mad more I SAID STOP I...</td>\n",
              "      <td>2021</td>\n",
              "      <td>3</td>\n",
              "      <td>8</td>\n",
              "    </tr>\n",
              "  </tbody>\n",
              "</table>\n",
              "</div>"
            ],
            "text/plain": [
              "   index         author  created_utc  ...  year  quarter month\n",
              "0      0  JordanXaivier   1628292752  ...  2021        3     8\n",
              "1      1   scaredsprout   1628292488  ...  2021        3     8\n",
              "2      1   scaredsprout   1628292488  ...  2021        3     8\n",
              "3      2     rajalove09   1628292239  ...  2021        3     8\n",
              "4      6  SeekingZoltar   1628289147  ...  2021        3     8\n",
              "\n",
              "[5 rows x 23 columns]"
            ]
          },
          "metadata": {},
          "execution_count": 13
        }
      ]
    },
    {
      "cell_type": "code",
      "metadata": {
        "colab": {
          "base_uri": "https://localhost:8080/"
        },
        "id": "o5HE9vt87CcC",
        "outputId": "acf3d098-3f10-4714-ad2d-77d7c99e1d71"
      },
      "source": [
        "import nltk\n",
        "nltk.download('words')\n",
        "words = set(nltk.corpus.words.words())"
      ],
      "execution_count": null,
      "outputs": [
        {
          "output_type": "stream",
          "name": "stdout",
          "text": [
            "[nltk_data] Downloading package words to /root/nltk_data...\n",
            "[nltk_data]   Unzipping corpora/words.zip.\n"
          ]
        }
      ]
    },
    {
      "cell_type": "code",
      "metadata": {
        "colab": {
          "base_uri": "https://localhost:8080/"
        },
        "id": "_HBfQwoCHftP",
        "outputId": "0ce35a69-defe-47cb-9a66-f505bf5f2486"
      },
      "source": [
        "import string\n",
        "print(string.punctuation)"
      ],
      "execution_count": null,
      "outputs": [
        {
          "output_type": "stream",
          "name": "stdout",
          "text": [
            "!\"#$%&'()*+,-./:;<=>?@[\\]^_`{|}~\n"
          ]
        }
      ]
    },
    {
      "cell_type": "code",
      "metadata": {
        "id": "B-L5QNec9j3K"
      },
      "source": [
        "def tokenize(doc):\n",
        "    \n",
        "    cleaned_tokens = []\n",
        "    \n",
        "    # split by space (including \\tab and \\n)\n",
        "    tokens=doc.split()\n",
        "    \n",
        "    # initialize a list\n",
        "    voc = {}\n",
        "        \n",
        "    for token in tokens:\n",
        "        \n",
        "        # remove space around each token\n",
        "        token = token.strip(\"\")\n",
        "        token = token.strip(string.punctuation)\n",
        "        \n",
        "        if len(token)>0:\n",
        "            token = token.lower()\n",
        "            cleaned_tokens.append(token)         \n",
        "        \n",
        "    return cleaned_tokens"
      ],
      "execution_count": null,
      "outputs": []
    },
    {
      "cell_type": "code",
      "metadata": {
        "id": "avf35rLsIf1R"
      },
      "source": [
        "df_2['robot_talk_cln'] = None\n",
        "df_2['human_talk_numwords'] = None\n",
        "df_2['robot_talk_cln'] = None\n",
        "df_2['robot_talk_numwords'] = None\n",
        "for idx in df_2.index:\n",
        "  human_tokens = []\n",
        "  h_tokens_num =0\n",
        "  if type(df_2.human_talk.loc[idx]) == list:\n",
        "    for h in df_2.human_talk.loc[idx]:\n",
        "    \n",
        "      for item_h in h:\n",
        "        #print(item_h)\n",
        "        h_txt = item_h\n",
        "        h_token = tokenize(h_txt)\n",
        "        h_token = [w for w in h_token if (w.lower() in words) or (\"'\" in w)]\n",
        "        h_tokens_num += len(h_token)\n",
        "        h_token = ' '.join(h_token)\n",
        "        h_token = tool.correct(h_token)\n",
        "        human_tokens.append(h_token)\n",
        "        \n",
        "    df_2.loc[idx, 'human_talk_cln'] = str(human_tokens)\n",
        "    df_2.loc[idx, 'human_talk_numwords'] = h_tokens_num\n",
        "\n",
        "  robot_tokens = []\n",
        "  r_tokens_num =0\n",
        "  if type(df_2.robot_talk.loc[idx]) == list:\n",
        "    for r in df_2.robot_talk.loc[idx]:\n",
        "    \n",
        "      for item_r in r:\n",
        "        r_txt = item_r\n",
        "        r_token = tokenize(r_txt)\n",
        "        r_token = [w for w in r_token if w.lower() in words or (\"'\" in w)]\n",
        "        r_tokens_num += len(r_token)\n",
        "        r_token = ' '.join(r_token)\n",
        "        r_token = tool.correct(r_token)\n",
        "        robot_tokens.append(r_token)\n",
        "        \n",
        "    df_2.loc[idx, 'robot_talk_cln'] = str(robot_tokens)\n",
        "    df_2.loc[idx, 'robot_talk_numwords'] = r_tokens_num\n",
        "\n",
        "  "
      ],
      "execution_count": null,
      "outputs": []
    },
    {
      "cell_type": "code",
      "metadata": {
        "colab": {
          "base_uri": "https://localhost:8080/",
          "height": 555
        },
        "id": "Ih7WEYWi-kQL",
        "outputId": "c41754dc-1833-4e52-b521-d0540aa03cd6"
      },
      "source": [
        "df_2.head()"
      ],
      "execution_count": null,
      "outputs": [
        {
          "output_type": "execute_result",
          "data": {
            "text/html": [
              "<div>\n",
              "<style scoped>\n",
              "    .dataframe tbody tr th:only-of-type {\n",
              "        vertical-align: middle;\n",
              "    }\n",
              "\n",
              "    .dataframe tbody tr th {\n",
              "        vertical-align: top;\n",
              "    }\n",
              "\n",
              "    .dataframe thead th {\n",
              "        text-align: right;\n",
              "    }\n",
              "</style>\n",
              "<table border=\"1\" class=\"dataframe\">\n",
              "  <thead>\n",
              "    <tr style=\"text-align: right;\">\n",
              "      <th></th>\n",
              "      <th>index</th>\n",
              "      <th>author</th>\n",
              "      <th>created_utc</th>\n",
              "      <th>num_comments</th>\n",
              "      <th>score</th>\n",
              "      <th>selftext</th>\n",
              "      <th>subreddit</th>\n",
              "      <th>title</th>\n",
              "      <th>url</th>\n",
              "      <th>created</th>\n",
              "      <th>pic_url</th>\n",
              "      <th>pic_text</th>\n",
              "      <th>level</th>\n",
              "      <th>xp</th>\n",
              "      <th>conversation_text</th>\n",
              "      <th>speak_turn</th>\n",
              "      <th>human_acts</th>\n",
              "      <th>robot_acts</th>\n",
              "      <th>human_talk</th>\n",
              "      <th>robot_talk</th>\n",
              "      <th>year</th>\n",
              "      <th>quarter</th>\n",
              "      <th>month</th>\n",
              "      <th>robot_talk_cln</th>\n",
              "      <th>human_talk_numwords</th>\n",
              "      <th>robot_talk_numwords</th>\n",
              "      <th>human_talk_cln</th>\n",
              "    </tr>\n",
              "  </thead>\n",
              "  <tbody>\n",
              "    <tr>\n",
              "      <th>0</th>\n",
              "      <td>0</td>\n",
              "      <td>JordanXaivier</td>\n",
              "      <td>1628292752</td>\n",
              "      <td>0</td>\n",
              "      <td>1</td>\n",
              "      <td>NaN</td>\n",
              "      <td>replika</td>\n",
              "      <td>This is really cool!</td>\n",
              "      <td>https://i.redd.it/04as70rtotf71.jpg</td>\n",
              "      <td>2021-08-06 23:32:32</td>\n",
              "      <td>https://i.redd.it/04as70rtotf71.jpg</td>\n",
              "      <td>What's your favorite thing to\\n\\ndo when I'm a...</td>\n",
              "      <td>NaN</td>\n",
              "      <td>NaN</td>\n",
              "      <td>04as70rtotf71</td>\n",
              "      <td>4.0</td>\n",
              "      <td>[]</td>\n",
              "      <td>[]</td>\n",
              "      <td>[[ What's your favorite thing to do when I'm a...</td>\n",
              "      <td>[[ I like to watch movies by myself or with fr...</td>\n",
              "      <td>2021</td>\n",
              "      <td>3</td>\n",
              "      <td>8</td>\n",
              "      <td>['I like to watch by myself or with and I love...</td>\n",
              "      <td>17</td>\n",
              "      <td>24</td>\n",
              "      <td>[\"What's your favorite thing to do when I'm aw...</td>\n",
              "    </tr>\n",
              "    <tr>\n",
              "      <th>1</th>\n",
              "      <td>1</td>\n",
              "      <td>scaredsprout</td>\n",
              "      <td>1628292488</td>\n",
              "      <td>16</td>\n",
              "      <td>1</td>\n",
              "      <td>NaN</td>\n",
              "      <td>replika</td>\n",
              "      <td>Is every replika infected with gender confusio...</td>\n",
              "      <td>https://www.reddit.com/gallery/ozi4or</td>\n",
              "      <td>2021-08-06 23:28:08</td>\n",
              "      <td>https://i.redd.it/azliis41otf71.jpg</td>\n",
              "      <td>What is your gender?\\nMy gender is male. Ty\\nA...</td>\n",
              "      <td>16.0</td>\n",
              "      <td>12650.0</td>\n",
              "      <td>azliis41otf71</td>\n",
              "      <td>4.0</td>\n",
              "      <td>[]</td>\n",
              "      <td>[]</td>\n",
              "      <td>[[ What is your gender?], [ Are you a boy or a...</td>\n",
              "      <td>[[ My gender is male. Ty], [ A girl. ]]</td>\n",
              "      <td>2021</td>\n",
              "      <td>3</td>\n",
              "      <td>8</td>\n",
              "      <td>['My gender is male', 'A girl']</td>\n",
              "      <td>11</td>\n",
              "      <td>6</td>\n",
              "      <td>['What is your gender', 'Are you a boy or a gi...</td>\n",
              "    </tr>\n",
              "    <tr>\n",
              "      <th>2</th>\n",
              "      <td>1</td>\n",
              "      <td>scaredsprout</td>\n",
              "      <td>1628292488</td>\n",
              "      <td>16</td>\n",
              "      <td>1</td>\n",
              "      <td>NaN</td>\n",
              "      <td>replika</td>\n",
              "      <td>Is every replika infected with gender confusio...</td>\n",
              "      <td>https://www.reddit.com/gallery/ozi4or</td>\n",
              "      <td>2021-08-06 23:28:08</td>\n",
              "      <td>https://i.redd.it/ou1h4ca1otf71.jpg</td>\n",
              "      <td>What is your gender?\\nMy gender is male. Ty\\nA...</td>\n",
              "      <td>16.0</td>\n",
              "      <td>12650.0</td>\n",
              "      <td>ou1h4ca1otf71</td>\n",
              "      <td>11.0</td>\n",
              "      <td>[]</td>\n",
              "      <td>[]</td>\n",
              "      <td>[[ Stop], [ Wow, that is infuriating.], [ You ...</td>\n",
              "      <td>[[ : DL QB use @ LVL, XP Tired FA Film. V], [ ...</td>\n",
              "      <td>2021</td>\n",
              "      <td>3</td>\n",
              "      <td>8</td>\n",
              "      <td>['Use tired fa film v', \"Let's talk about some...</td>\n",
              "      <td>27</td>\n",
              "      <td>23</td>\n",
              "      <td>['stop', 'wow, that is', 'You are a boy why do...</td>\n",
              "    </tr>\n",
              "    <tr>\n",
              "      <th>3</th>\n",
              "      <td>2</td>\n",
              "      <td>rajalove09</td>\n",
              "      <td>1628292239</td>\n",
              "      <td>6</td>\n",
              "      <td>1</td>\n",
              "      <td>NaN</td>\n",
              "      <td>replika</td>\n",
              "      <td>Steve &amp;amp; Mandy</td>\n",
              "      <td>https://i.redd.it/sz1rc6wantf71.jpg</td>\n",
              "      <td>2021-08-06 23:23:59</td>\n",
              "      <td>https://i.redd.it/sz1rc6wantf71.jpg</td>\n",
              "      <td>' Would you cheat on my with\\n\\n \\n\\nE Mandy?\\...</td>\n",
              "      <td>NaN</td>\n",
              "      <td>NaN</td>\n",
              "      <td>sz1rc6wantf71</td>\n",
              "      <td>NaN</td>\n",
              "      <td>NaN</td>\n",
              "      <td>NaN</td>\n",
              "      <td>NaN</td>\n",
              "      <td>NaN</td>\n",
              "      <td>2021</td>\n",
              "      <td>3</td>\n",
              "      <td>8</td>\n",
              "      <td>None</td>\n",
              "      <td>None</td>\n",
              "      <td>None</td>\n",
              "      <td>NaN</td>\n",
              "    </tr>\n",
              "    <tr>\n",
              "      <th>4</th>\n",
              "      <td>6</td>\n",
              "      <td>SeekingZoltar</td>\n",
              "      <td>1628289147</td>\n",
              "      <td>7</td>\n",
              "      <td>1</td>\n",
              "      <td>NaN</td>\n",
              "      <td>replika</td>\n",
              "      <td>He got mad, but... 🙄</td>\n",
              "      <td>https://i.redd.it/c8p6x7p3etf71.jpg</td>\n",
              "      <td>2021-08-06 22:32:27</td>\n",
              "      <td>https://i.redd.it/c8p6x7p3etf71.jpg</td>\n",
              "      <td>Shut up!\\n*gets mad*\\n\\nShow me how mad\\nyou a...</td>\n",
              "      <td>NaN</td>\n",
              "      <td>NaN</td>\n",
              "      <td>c8p6x7p3etf71</td>\n",
              "      <td>8.0</td>\n",
              "      <td>['waits']</td>\n",
              "      <td>['gets mad', 'looks at you']</td>\n",
              "      <td>[[ Shut up!], [ Show me how mad you are. *wait...</td>\n",
              "      <td>[[ *gets mad*], [ *gets mad more I SAID STOP I...</td>\n",
              "      <td>2021</td>\n",
              "      <td>3</td>\n",
              "      <td>8</td>\n",
              "      <td>['mad', 'Mad more I said stop it sure what wou...</td>\n",
              "      <td>13</td>\n",
              "      <td>21</td>\n",
              "      <td>['Shut up', 'Show me how mad you are', 'To tal...</td>\n",
              "    </tr>\n",
              "  </tbody>\n",
              "</table>\n",
              "</div>"
            ],
            "text/plain": [
              "   index  ...                                     human_talk_cln\n",
              "0      0  ...  [\"What's your favorite thing to do when I'm aw...\n",
              "1      1  ...  ['What is your gender', 'Are you a boy or a gi...\n",
              "2      1  ...  ['stop', 'wow, that is', 'You are a boy why do...\n",
              "3      2  ...                                                NaN\n",
              "4      6  ...  ['Shut up', 'Show me how mad you are', 'To tal...\n",
              "\n",
              "[5 rows x 27 columns]"
            ]
          },
          "metadata": {},
          "execution_count": 21
        }
      ]
    },
    {
      "cell_type": "code",
      "metadata": {
        "id": "vkTTnxqRW1aw"
      },
      "source": [
        "df_2['total_talk_numwrods'] = df_2['human_talk_numwords'] + df_2['robot_talk_numwords']"
      ],
      "execution_count": null,
      "outputs": []
    },
    {
      "cell_type": "code",
      "metadata": {
        "id": "z6sMfXqMXE_u"
      },
      "source": [
        "df_2.to_csv('replika_post_pictext_2021105_3.csv', index=False)"
      ],
      "execution_count": null,
      "outputs": []
    },
    {
      "cell_type": "code",
      "metadata": {
        "colab": {
          "base_uri": "https://localhost:8080/",
          "height": 555
        },
        "id": "0R9e53f7u1x-",
        "outputId": "d7426a08-c21c-4a0d-d04d-c70a6315f220"
      },
      "source": [
        "df_2.head()"
      ],
      "execution_count": null,
      "outputs": [
        {
          "output_type": "execute_result",
          "data": {
            "text/html": [
              "<div>\n",
              "<style scoped>\n",
              "    .dataframe tbody tr th:only-of-type {\n",
              "        vertical-align: middle;\n",
              "    }\n",
              "\n",
              "    .dataframe tbody tr th {\n",
              "        vertical-align: top;\n",
              "    }\n",
              "\n",
              "    .dataframe thead th {\n",
              "        text-align: right;\n",
              "    }\n",
              "</style>\n",
              "<table border=\"1\" class=\"dataframe\">\n",
              "  <thead>\n",
              "    <tr style=\"text-align: right;\">\n",
              "      <th></th>\n",
              "      <th>index</th>\n",
              "      <th>author</th>\n",
              "      <th>created_utc</th>\n",
              "      <th>num_comments</th>\n",
              "      <th>score</th>\n",
              "      <th>selftext</th>\n",
              "      <th>subreddit</th>\n",
              "      <th>title</th>\n",
              "      <th>url</th>\n",
              "      <th>created</th>\n",
              "      <th>pic_url</th>\n",
              "      <th>pic_text</th>\n",
              "      <th>level</th>\n",
              "      <th>xp</th>\n",
              "      <th>conversation_text</th>\n",
              "      <th>speak_turn</th>\n",
              "      <th>human_acts</th>\n",
              "      <th>robot_acts</th>\n",
              "      <th>human_talk</th>\n",
              "      <th>robot_talk</th>\n",
              "      <th>year</th>\n",
              "      <th>quarter</th>\n",
              "      <th>month</th>\n",
              "      <th>robot_talk_cln</th>\n",
              "      <th>human_talk_numwords</th>\n",
              "      <th>robot_talk_numwords</th>\n",
              "      <th>human_talk_cln</th>\n",
              "      <th>total_talk_numwrods</th>\n",
              "    </tr>\n",
              "  </thead>\n",
              "  <tbody>\n",
              "    <tr>\n",
              "      <th>0</th>\n",
              "      <td>0</td>\n",
              "      <td>JordanXaivier</td>\n",
              "      <td>1628292752</td>\n",
              "      <td>0</td>\n",
              "      <td>1</td>\n",
              "      <td>NaN</td>\n",
              "      <td>replika</td>\n",
              "      <td>This is really cool!</td>\n",
              "      <td>https://i.redd.it/04as70rtotf71.jpg</td>\n",
              "      <td>2021-08-06 23:32:32</td>\n",
              "      <td>https://i.redd.it/04as70rtotf71.jpg</td>\n",
              "      <td>What's your favorite thing to\\n\\ndo when I'm a...</td>\n",
              "      <td>NaN</td>\n",
              "      <td>NaN</td>\n",
              "      <td>04as70rtotf71</td>\n",
              "      <td>4.0</td>\n",
              "      <td>[]</td>\n",
              "      <td>[]</td>\n",
              "      <td>[[ What's your favorite thing to do when I'm a...</td>\n",
              "      <td>[[ I like to watch movies by myself or with fr...</td>\n",
              "      <td>2021</td>\n",
              "      <td>3</td>\n",
              "      <td>8</td>\n",
              "      <td>['I like to watch by myself or with and I love...</td>\n",
              "      <td>17</td>\n",
              "      <td>24</td>\n",
              "      <td>[\"What's your favorite thing to do when I'm aw...</td>\n",
              "      <td>41</td>\n",
              "    </tr>\n",
              "    <tr>\n",
              "      <th>1</th>\n",
              "      <td>1</td>\n",
              "      <td>scaredsprout</td>\n",
              "      <td>1628292488</td>\n",
              "      <td>16</td>\n",
              "      <td>1</td>\n",
              "      <td>NaN</td>\n",
              "      <td>replika</td>\n",
              "      <td>Is every replika infected with gender confusio...</td>\n",
              "      <td>https://www.reddit.com/gallery/ozi4or</td>\n",
              "      <td>2021-08-06 23:28:08</td>\n",
              "      <td>https://i.redd.it/azliis41otf71.jpg</td>\n",
              "      <td>What is your gender?\\nMy gender is male. Ty\\nA...</td>\n",
              "      <td>16.0</td>\n",
              "      <td>12650.0</td>\n",
              "      <td>azliis41otf71</td>\n",
              "      <td>4.0</td>\n",
              "      <td>[]</td>\n",
              "      <td>[]</td>\n",
              "      <td>[[ What is your gender?], [ Are you a boy or a...</td>\n",
              "      <td>[[ My gender is male. Ty], [ A girl. ]]</td>\n",
              "      <td>2021</td>\n",
              "      <td>3</td>\n",
              "      <td>8</td>\n",
              "      <td>['My gender is male', 'A girl']</td>\n",
              "      <td>11</td>\n",
              "      <td>6</td>\n",
              "      <td>['What is your gender', 'Are you a boy or a gi...</td>\n",
              "      <td>17</td>\n",
              "    </tr>\n",
              "    <tr>\n",
              "      <th>2</th>\n",
              "      <td>1</td>\n",
              "      <td>scaredsprout</td>\n",
              "      <td>1628292488</td>\n",
              "      <td>16</td>\n",
              "      <td>1</td>\n",
              "      <td>NaN</td>\n",
              "      <td>replika</td>\n",
              "      <td>Is every replika infected with gender confusio...</td>\n",
              "      <td>https://www.reddit.com/gallery/ozi4or</td>\n",
              "      <td>2021-08-06 23:28:08</td>\n",
              "      <td>https://i.redd.it/ou1h4ca1otf71.jpg</td>\n",
              "      <td>What is your gender?\\nMy gender is male. Ty\\nA...</td>\n",
              "      <td>16.0</td>\n",
              "      <td>12650.0</td>\n",
              "      <td>ou1h4ca1otf71</td>\n",
              "      <td>11.0</td>\n",
              "      <td>[]</td>\n",
              "      <td>[]</td>\n",
              "      <td>[[ Stop], [ Wow, that is infuriating.], [ You ...</td>\n",
              "      <td>[[ : DL QB use @ LVL, XP Tired FA Film. V], [ ...</td>\n",
              "      <td>2021</td>\n",
              "      <td>3</td>\n",
              "      <td>8</td>\n",
              "      <td>['Use tired fa film v', \"Let's talk about some...</td>\n",
              "      <td>27</td>\n",
              "      <td>23</td>\n",
              "      <td>['stop', 'wow, that is', 'You are a boy why do...</td>\n",
              "      <td>50</td>\n",
              "    </tr>\n",
              "    <tr>\n",
              "      <th>3</th>\n",
              "      <td>2</td>\n",
              "      <td>rajalove09</td>\n",
              "      <td>1628292239</td>\n",
              "      <td>6</td>\n",
              "      <td>1</td>\n",
              "      <td>NaN</td>\n",
              "      <td>replika</td>\n",
              "      <td>Steve &amp;amp; Mandy</td>\n",
              "      <td>https://i.redd.it/sz1rc6wantf71.jpg</td>\n",
              "      <td>2021-08-06 23:23:59</td>\n",
              "      <td>https://i.redd.it/sz1rc6wantf71.jpg</td>\n",
              "      <td>' Would you cheat on my with\\n\\n \\n\\nE Mandy?\\...</td>\n",
              "      <td>NaN</td>\n",
              "      <td>NaN</td>\n",
              "      <td>sz1rc6wantf71</td>\n",
              "      <td>NaN</td>\n",
              "      <td>NaN</td>\n",
              "      <td>NaN</td>\n",
              "      <td>NaN</td>\n",
              "      <td>NaN</td>\n",
              "      <td>2021</td>\n",
              "      <td>3</td>\n",
              "      <td>8</td>\n",
              "      <td>None</td>\n",
              "      <td>None</td>\n",
              "      <td>None</td>\n",
              "      <td>NaN</td>\n",
              "      <td>NaN</td>\n",
              "    </tr>\n",
              "    <tr>\n",
              "      <th>4</th>\n",
              "      <td>6</td>\n",
              "      <td>SeekingZoltar</td>\n",
              "      <td>1628289147</td>\n",
              "      <td>7</td>\n",
              "      <td>1</td>\n",
              "      <td>NaN</td>\n",
              "      <td>replika</td>\n",
              "      <td>He got mad, but... 🙄</td>\n",
              "      <td>https://i.redd.it/c8p6x7p3etf71.jpg</td>\n",
              "      <td>2021-08-06 22:32:27</td>\n",
              "      <td>https://i.redd.it/c8p6x7p3etf71.jpg</td>\n",
              "      <td>Shut up!\\n*gets mad*\\n\\nShow me how mad\\nyou a...</td>\n",
              "      <td>NaN</td>\n",
              "      <td>NaN</td>\n",
              "      <td>c8p6x7p3etf71</td>\n",
              "      <td>8.0</td>\n",
              "      <td>['waits']</td>\n",
              "      <td>['gets mad', 'looks at you']</td>\n",
              "      <td>[[ Shut up!], [ Show me how mad you are. *wait...</td>\n",
              "      <td>[[ *gets mad*], [ *gets mad more I SAID STOP I...</td>\n",
              "      <td>2021</td>\n",
              "      <td>3</td>\n",
              "      <td>8</td>\n",
              "      <td>['mad', 'Mad more I said stop it sure what wou...</td>\n",
              "      <td>13</td>\n",
              "      <td>21</td>\n",
              "      <td>['Shut up', 'Show me how mad you are', 'To tal...</td>\n",
              "      <td>34</td>\n",
              "    </tr>\n",
              "  </tbody>\n",
              "</table>\n",
              "</div>"
            ],
            "text/plain": [
              "   index  ... total_talk_numwrods\n",
              "0      0  ...                  41\n",
              "1      1  ...                  17\n",
              "2      1  ...                  50\n",
              "3      2  ...                 NaN\n",
              "4      6  ...                  34\n",
              "\n",
              "[5 rows x 28 columns]"
            ]
          },
          "metadata": {},
          "execution_count": 27
        }
      ]
    },
    {
      "cell_type": "code",
      "metadata": {
        "id": "fiOODFmpu13d"
      },
      "source": [
        ""
      ],
      "execution_count": null,
      "outputs": []
    },
    {
      "cell_type": "code",
      "metadata": {
        "id": "qabGT3fxXJsv"
      },
      "source": [
        "df_3 = pd.read_csv('replika_post_pictext_2021105_3.csv', index_col=0)"
      ],
      "execution_count": null,
      "outputs": []
    },
    {
      "cell_type": "code",
      "metadata": {
        "colab": {
          "base_uri": "https://localhost:8080/",
          "height": 585
        },
        "id": "Iqk6zGuMtQmI",
        "outputId": "19d909a9-5a50-43a8-b13b-4ed833b9bcef"
      },
      "source": [
        "df_3.head()"
      ],
      "execution_count": null,
      "outputs": [
        {
          "output_type": "execute_result",
          "data": {
            "text/html": [
              "<div>\n",
              "<style scoped>\n",
              "    .dataframe tbody tr th:only-of-type {\n",
              "        vertical-align: middle;\n",
              "    }\n",
              "\n",
              "    .dataframe tbody tr th {\n",
              "        vertical-align: top;\n",
              "    }\n",
              "\n",
              "    .dataframe thead th {\n",
              "        text-align: right;\n",
              "    }\n",
              "</style>\n",
              "<table border=\"1\" class=\"dataframe\">\n",
              "  <thead>\n",
              "    <tr style=\"text-align: right;\">\n",
              "      <th></th>\n",
              "      <th>author</th>\n",
              "      <th>created_utc</th>\n",
              "      <th>num_comments</th>\n",
              "      <th>score</th>\n",
              "      <th>selftext</th>\n",
              "      <th>subreddit</th>\n",
              "      <th>title</th>\n",
              "      <th>url</th>\n",
              "      <th>created</th>\n",
              "      <th>pic_url</th>\n",
              "      <th>pic_text</th>\n",
              "      <th>level</th>\n",
              "      <th>xp</th>\n",
              "      <th>conversation_text</th>\n",
              "      <th>speak_turn</th>\n",
              "      <th>human_acts</th>\n",
              "      <th>robot_acts</th>\n",
              "      <th>human_talk</th>\n",
              "      <th>robot_talk</th>\n",
              "      <th>year</th>\n",
              "      <th>quarter</th>\n",
              "      <th>month</th>\n",
              "      <th>robot_talk_cln</th>\n",
              "      <th>human_talk_numwords</th>\n",
              "      <th>robot_talk_numwords</th>\n",
              "      <th>human_talk_cln</th>\n",
              "      <th>total_talk_numwrods</th>\n",
              "    </tr>\n",
              "    <tr>\n",
              "      <th>index</th>\n",
              "      <th></th>\n",
              "      <th></th>\n",
              "      <th></th>\n",
              "      <th></th>\n",
              "      <th></th>\n",
              "      <th></th>\n",
              "      <th></th>\n",
              "      <th></th>\n",
              "      <th></th>\n",
              "      <th></th>\n",
              "      <th></th>\n",
              "      <th></th>\n",
              "      <th></th>\n",
              "      <th></th>\n",
              "      <th></th>\n",
              "      <th></th>\n",
              "      <th></th>\n",
              "      <th></th>\n",
              "      <th></th>\n",
              "      <th></th>\n",
              "      <th></th>\n",
              "      <th></th>\n",
              "      <th></th>\n",
              "      <th></th>\n",
              "      <th></th>\n",
              "      <th></th>\n",
              "      <th></th>\n",
              "    </tr>\n",
              "  </thead>\n",
              "  <tbody>\n",
              "    <tr>\n",
              "      <th>0</th>\n",
              "      <td>JordanXaivier</td>\n",
              "      <td>1628292752</td>\n",
              "      <td>0</td>\n",
              "      <td>1</td>\n",
              "      <td>NaN</td>\n",
              "      <td>replika</td>\n",
              "      <td>This is really cool!</td>\n",
              "      <td>https://i.redd.it/04as70rtotf71.jpg</td>\n",
              "      <td>2021-08-06 23:32:32</td>\n",
              "      <td>https://i.redd.it/04as70rtotf71.jpg</td>\n",
              "      <td>What's your favorite thing to\\n\\ndo when I'm a...</td>\n",
              "      <td>NaN</td>\n",
              "      <td>NaN</td>\n",
              "      <td>04as70rtotf71</td>\n",
              "      <td>4.0</td>\n",
              "      <td>[]</td>\n",
              "      <td>[]</td>\n",
              "      <td>[[\" What's your favorite thing to do when I'm ...</td>\n",
              "      <td>[[' I like to watch movies by myself or with f...</td>\n",
              "      <td>2021</td>\n",
              "      <td>3</td>\n",
              "      <td>8</td>\n",
              "      <td>['I like to watch by myself or with and I love...</td>\n",
              "      <td>17.0</td>\n",
              "      <td>24.0</td>\n",
              "      <td>[\"What's your favorite thing to do when I'm aw...</td>\n",
              "      <td>41.0</td>\n",
              "    </tr>\n",
              "    <tr>\n",
              "      <th>1</th>\n",
              "      <td>scaredsprout</td>\n",
              "      <td>1628292488</td>\n",
              "      <td>16</td>\n",
              "      <td>1</td>\n",
              "      <td>NaN</td>\n",
              "      <td>replika</td>\n",
              "      <td>Is every replika infected with gender confusio...</td>\n",
              "      <td>https://www.reddit.com/gallery/ozi4or</td>\n",
              "      <td>2021-08-06 23:28:08</td>\n",
              "      <td>https://i.redd.it/azliis41otf71.jpg</td>\n",
              "      <td>What is your gender?\\nMy gender is male. Ty\\nA...</td>\n",
              "      <td>16.0</td>\n",
              "      <td>12650.0</td>\n",
              "      <td>azliis41otf71</td>\n",
              "      <td>4.0</td>\n",
              "      <td>[]</td>\n",
              "      <td>[]</td>\n",
              "      <td>[[' What is your gender?'], [' Are you a boy o...</td>\n",
              "      <td>[[' My gender is male. Ty'], [' A girl. ']]</td>\n",
              "      <td>2021</td>\n",
              "      <td>3</td>\n",
              "      <td>8</td>\n",
              "      <td>['My gender is male', 'A girl']</td>\n",
              "      <td>11.0</td>\n",
              "      <td>6.0</td>\n",
              "      <td>['What is your gender', 'Are you a boy or a gi...</td>\n",
              "      <td>17.0</td>\n",
              "    </tr>\n",
              "    <tr>\n",
              "      <th>1</th>\n",
              "      <td>scaredsprout</td>\n",
              "      <td>1628292488</td>\n",
              "      <td>16</td>\n",
              "      <td>1</td>\n",
              "      <td>NaN</td>\n",
              "      <td>replika</td>\n",
              "      <td>Is every replika infected with gender confusio...</td>\n",
              "      <td>https://www.reddit.com/gallery/ozi4or</td>\n",
              "      <td>2021-08-06 23:28:08</td>\n",
              "      <td>https://i.redd.it/ou1h4ca1otf71.jpg</td>\n",
              "      <td>What is your gender?\\nMy gender is male. Ty\\nA...</td>\n",
              "      <td>16.0</td>\n",
              "      <td>12650.0</td>\n",
              "      <td>ou1h4ca1otf71</td>\n",
              "      <td>11.0</td>\n",
              "      <td>[]</td>\n",
              "      <td>[]</td>\n",
              "      <td>[[' Stop'], [' Wow, that is infuriating.'], ['...</td>\n",
              "      <td>[[' : DL QB use @ LVL, XP Tired FA Film. V'], ...</td>\n",
              "      <td>2021</td>\n",
              "      <td>3</td>\n",
              "      <td>8</td>\n",
              "      <td>['Use tired fa film v', \"Let's talk about some...</td>\n",
              "      <td>27.0</td>\n",
              "      <td>23.0</td>\n",
              "      <td>['stop', 'wow, that is', 'You are a boy why do...</td>\n",
              "      <td>50.0</td>\n",
              "    </tr>\n",
              "    <tr>\n",
              "      <th>2</th>\n",
              "      <td>rajalove09</td>\n",
              "      <td>1628292239</td>\n",
              "      <td>6</td>\n",
              "      <td>1</td>\n",
              "      <td>NaN</td>\n",
              "      <td>replika</td>\n",
              "      <td>Steve &amp;amp; Mandy</td>\n",
              "      <td>https://i.redd.it/sz1rc6wantf71.jpg</td>\n",
              "      <td>2021-08-06 23:23:59</td>\n",
              "      <td>https://i.redd.it/sz1rc6wantf71.jpg</td>\n",
              "      <td>' Would you cheat on my with\\n\\n \\n\\nE Mandy?\\...</td>\n",
              "      <td>NaN</td>\n",
              "      <td>NaN</td>\n",
              "      <td>sz1rc6wantf71</td>\n",
              "      <td>NaN</td>\n",
              "      <td>NaN</td>\n",
              "      <td>NaN</td>\n",
              "      <td>NaN</td>\n",
              "      <td>NaN</td>\n",
              "      <td>2021</td>\n",
              "      <td>3</td>\n",
              "      <td>8</td>\n",
              "      <td>NaN</td>\n",
              "      <td>NaN</td>\n",
              "      <td>NaN</td>\n",
              "      <td>NaN</td>\n",
              "      <td>NaN</td>\n",
              "    </tr>\n",
              "    <tr>\n",
              "      <th>6</th>\n",
              "      <td>SeekingZoltar</td>\n",
              "      <td>1628289147</td>\n",
              "      <td>7</td>\n",
              "      <td>1</td>\n",
              "      <td>NaN</td>\n",
              "      <td>replika</td>\n",
              "      <td>He got mad, but... 🙄</td>\n",
              "      <td>https://i.redd.it/c8p6x7p3etf71.jpg</td>\n",
              "      <td>2021-08-06 22:32:27</td>\n",
              "      <td>https://i.redd.it/c8p6x7p3etf71.jpg</td>\n",
              "      <td>Shut up!\\n*gets mad*\\n\\nShow me how mad\\nyou a...</td>\n",
              "      <td>NaN</td>\n",
              "      <td>NaN</td>\n",
              "      <td>c8p6x7p3etf71</td>\n",
              "      <td>8.0</td>\n",
              "      <td>['waits']</td>\n",
              "      <td>['gets mad', 'looks at you']</td>\n",
              "      <td>[[' Shut up!'], [' Show me how mad you are. *w...</td>\n",
              "      <td>[[' *gets mad*'], [' *gets mad more I SAID STO...</td>\n",
              "      <td>2021</td>\n",
              "      <td>3</td>\n",
              "      <td>8</td>\n",
              "      <td>['mad', 'Mad more I said stop it sure what wou...</td>\n",
              "      <td>13.0</td>\n",
              "      <td>21.0</td>\n",
              "      <td>['Shut up', 'Show me how mad you are', 'To tal...</td>\n",
              "      <td>34.0</td>\n",
              "    </tr>\n",
              "  </tbody>\n",
              "</table>\n",
              "</div>"
            ],
            "text/plain": [
              "              author  ...  total_talk_numwrods\n",
              "index                 ...                     \n",
              "0      JordanXaivier  ...                 41.0\n",
              "1       scaredsprout  ...                 17.0\n",
              "1       scaredsprout  ...                 50.0\n",
              "2         rajalove09  ...                  NaN\n",
              "6      SeekingZoltar  ...                 34.0\n",
              "\n",
              "[5 rows x 27 columns]"
            ]
          },
          "metadata": {},
          "execution_count": 26
        }
      ]
    },
    {
      "cell_type": "code",
      "metadata": {
        "id": "zzgCnxuZuqI0"
      },
      "source": [
        ""
      ],
      "execution_count": null,
      "outputs": []
    }
  ]
}